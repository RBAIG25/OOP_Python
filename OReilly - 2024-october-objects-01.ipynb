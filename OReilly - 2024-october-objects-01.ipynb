{
 "cells": [
  {
   "cell_type": "markdown",
   "metadata": {},
   "source": [
    "# Welcome!\n",
    "\n",
    "1. What are objects?\n",
    "2. In Python, everything is an object\n",
    "3. Creating our own classes\n",
    "4. What happens when we create an object? (Constructor and initializer)\n",
    "5. Attributes\n",
    "6. More complex objects\n",
    "7. Methods\n",
    "8. Special parameters and our methods"
   ]
  },
  {
   "cell_type": "markdown",
   "metadata": {},
   "source": [
    "# What are objects?  (Why do we care about this whole object-oriented thing?)\n",
    "\n",
    "When people started to program, they had data and functions. \n",
    "\n",
    "- Data is nouns\n",
    "- Functions are verbs\n",
    "\n",
    "I can still make a mistake, and call a function on a data structure that isn't appropriate for it. This leads to confusion and frustration.\n",
    "\n",
    "Back in the 1970s-1980s, computer scientists suggested that we approach things differently, combining into a single package the nouns and the verbs.\n",
    "\n",
    "The whole point of object-oriented programming is to make it easier to write, debug, and maintain our software.  By thinking of our software as a collection of nouns, each of which can perform certain tasks, get inputs from the outside world and send outputs to other objects, we can think at a higher level of abstraction, and thus write better software.\n",
    "\n",
    "The first object-oriented programming language was Smalltalk. Python isn't a direct descendant of Smalltalk, but we see some aspects of it in Python, including the idea that everything is an object.\n",
    "\n",
    "What do we get out of OO programming?\n",
    "\n",
    "- Consistency. Our objects and the system's objects that come with Python all work in the same way.  If you learn a new library/module, it will also work in the same way.\n",
    "- Reuse. We can reuse code that we wrote before, or that other people (even people we've never met) have written, and have made available to us.\n",
    "- Abstraction. We don't need to think/worry about the details of the implementation in objects we're not currently modifying. We can think of them as a black box. Moreover, we don't have to think about lists, strings, tuples, and dicts -- we can think about high-level, real-world objects such as cars, people, desks, and companies.\n",
    "\n",
    "Even though everything in Python is an object, and knowing about Python's objects is super helpful, you don't need to employ object-oriented programming when using Python."
   ]
  },
  {
   "cell_type": "code",
   "execution_count": 1,
   "metadata": {},
   "outputs": [
    {
     "data": {
      "text/plain": [
       "4"
      ]
     },
     "execution_count": 1,
     "metadata": {},
     "output_type": "execute_result"
    }
   ],
   "source": [
    "s = 'abcd'\n",
    "\n",
    "len(s)  # here, we're calling the len function on the string s"
   ]
  },
  {
   "cell_type": "code",
   "execution_count": 2,
   "metadata": {},
   "outputs": [
    {
     "ename": "TypeError",
     "evalue": "object of type 'int' has no len()",
     "output_type": "error",
     "traceback": [
      "\u001b[0;31m---------------------------------------------------------------------------\u001b[0m",
      "\u001b[0;31mTypeError\u001b[0m                                 Traceback (most recent call last)",
      "Cell \u001b[0;32mIn[2], line 3\u001b[0m\n\u001b[1;32m      1\u001b[0m x \u001b[38;5;241m=\u001b[39m \u001b[38;5;241m100\u001b[39m\n\u001b[0;32m----> 3\u001b[0m \u001b[38;5;28;43mlen\u001b[39;49m\u001b[43m(\u001b[49m\u001b[43mx\u001b[49m\u001b[43m)\u001b[49m\n",
      "\u001b[0;31mTypeError\u001b[0m: object of type 'int' has no len()"
     ]
    }
   ],
   "source": [
    "x = 100\n",
    "\n",
    "len(x)"
   ]
  },
  {
   "cell_type": "code",
   "execution_count": null,
   "metadata": {},
   "outputs": [],
   "source": []
  }
 ],
 "metadata": {
  "kernelspec": {
   "display_name": "Python 3 (ipykernel)",
   "language": "python",
   "name": "python3"
  },
  "language_info": {
   "codemirror_mode": {
    "name": "ipython",
    "version": 3
   },
   "file_extension": ".py",
   "mimetype": "text/x-python",
   "name": "python",
   "nbconvert_exporter": "python",
   "pygments_lexer": "ipython3",
   "version": "3.13.0"
  }
 },
 "nbformat": 4,
 "nbformat_minor": 4
}
