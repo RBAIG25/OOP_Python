{
 "cells": [
  {
   "cell_type": "markdown",
   "metadata": {},
   "source": [
    "# Welcome!\n",
    "\n",
    "1. What are objects?\n",
    "2. In Python, everything is an object\n",
    "3. Creating our own classes\n",
    "4. What happens when we create an object? (Constructor and initializer)\n",
    "5. Attributes\n",
    "6. More complex objects\n",
    "7. Methods\n",
    "8. Special parameters and our methods"
   ]
  },
  {
   "cell_type": "markdown",
   "metadata": {},
   "source": [
    "# What are objects?  (Why do we care about this whole object-oriented thing?)\n",
    "\n",
    "When people started to program, they had data and functions. \n",
    "\n",
    "- Data is nouns\n",
    "- Functions are verbs\n",
    "\n",
    "I can still make a mistake, and call a function on a data structure that isn't appropriate for it. This leads to confusion and frustration.\n",
    "\n",
    "Back in the 1970s-1980s, computer scientists suggested that we approach things differently, combining into a single package the nouns and the verbs.\n",
    "\n",
    "The whole point of object-oriented programming is to make it easier to write, debug, and maintain our software.  By thinking of our software as a collection of nouns, each of which can perform certain tasks, get inputs from the outside world and send outputs to other objects, we can think at a higher level of abstraction, and thus write better software.\n",
    "\n",
    "The first object-oriented programming language was Smalltalk. Python isn't a direct descendant of Smalltalk, but we see some aspects of it in Python, including the idea that everything is an object.\n",
    "\n",
    "What do we get out of OO programming?\n",
    "\n",
    "- Consistency. Our objects and the system's objects that come with Python all work in the same way.  If you learn a new library/module, it will also work in the same way.\n",
    "- Reuse. We can reuse code that we wrote before, or that other people (even people we've never met) have written, and have made available to us.\n",
    "- Abstraction. We don't need to think/worry about the details of the implementation in objects we're not currently modifying. We can think of them as a black box. Moreover, we don't have to think about lists, strings, tuples, and dicts -- we can think about high-level, real-world objects such as cars, people, desks, and companies.\n",
    "\n",
    "Even though everything in Python is an object, and knowing about Python's objects is super helpful, you don't need to employ object-oriented programming when using Python."
   ]
  },
  {
   "cell_type": "code",
   "execution_count": 1,
   "metadata": {},
   "outputs": [
    {
     "data": {
      "text/plain": [
       "4"
      ]
     },
     "execution_count": 1,
     "metadata": {},
     "output_type": "execute_result"
    }
   ],
   "source": [
    "s = 'abcd'\n",
    "\n",
    "len(s)  # here, we're calling the len function on the string s"
   ]
  },
  {
   "cell_type": "code",
   "execution_count": 2,
   "metadata": {},
   "outputs": [
    {
     "ename": "TypeError",
     "evalue": "object of type 'int' has no len()",
     "output_type": "error",
     "traceback": [
      "\u001b[0;31m---------------------------------------------------------------------------\u001b[0m",
      "\u001b[0;31mTypeError\u001b[0m                                 Traceback (most recent call last)",
      "Cell \u001b[0;32mIn[2], line 3\u001b[0m\n\u001b[1;32m      1\u001b[0m x \u001b[38;5;241m=\u001b[39m \u001b[38;5;241m100\u001b[39m\n\u001b[0;32m----> 3\u001b[0m \u001b[38;5;28;43mlen\u001b[39;49m\u001b[43m(\u001b[49m\u001b[43mx\u001b[49m\u001b[43m)\u001b[49m\n",
      "\u001b[0;31mTypeError\u001b[0m: object of type 'int' has no len()"
     ]
    }
   ],
   "source": [
    "x = 100\n",
    "\n",
    "len(x)"
   ]
  },
  {
   "cell_type": "markdown",
   "metadata": {},
   "source": [
    "# In Python, everything is an object\n",
    "\n",
    "What does this mean?  Everything in Python has three characteristics:\n",
    "\n",
    "- An ID number, which we can get with the `id` builtin function\n",
    "- A class, or a type, which we can get with the `type` builtin function\n",
    "- Attributes, its own dictionary of names and values that allow it to store data outside of variables\n"
   ]
  },
  {
   "cell_type": "code",
   "execution_count": 3,
   "metadata": {},
   "outputs": [
    {
     "data": {
      "text/plain": [
       "4460106896"
      ]
     },
     "execution_count": 3,
     "metadata": {},
     "output_type": "execute_result"
    }
   ],
   "source": [
    "x = 100\n",
    "\n",
    "# is 100, which x refers to, an object\n",
    "id(x)   # what unique number does 100 have in Python's memory?\n",
    "\n",
    "\n",
    "# the id number is actually the address of the object in memory"
   ]
  },
  {
   "cell_type": "code",
   "execution_count": 5,
   "metadata": {},
   "outputs": [
    {
     "data": {
      "text/plain": [
       "int"
      ]
     },
     "execution_count": 5,
     "metadata": {},
     "output_type": "execute_result"
    }
   ],
   "source": [
    "# everything has a class, or a type\n",
    "# this class/type indicates what functionality the object has\n",
    "\n",
    "# all strings are of type str\n",
    "# all integers are of type int\n",
    "# all lists are of type list\n",
    "\n",
    "# we know that all objects of type X are going to behave in a certain way.\n",
    "type(100)"
   ]
  },
  {
   "cell_type": "code",
   "execution_count": 6,
   "metadata": {},
   "outputs": [
    {
     "data": {
      "text/plain": [
       "str"
      ]
     },
     "execution_count": 6,
     "metadata": {},
     "output_type": "execute_result"
    }
   ],
   "source": [
    "type('abcd')"
   ]
  },
  {
   "cell_type": "code",
   "execution_count": 7,
   "metadata": {},
   "outputs": [
    {
     "data": {
      "text/plain": [
       "list"
      ]
     },
     "execution_count": 7,
     "metadata": {},
     "output_type": "execute_result"
    }
   ],
   "source": [
    "type([10, 20, 30])"
   ]
  },
  {
   "cell_type": "code",
   "execution_count": 8,
   "metadata": {},
   "outputs": [
    {
     "data": {
      "text/plain": [
       "type"
      ]
     },
     "execution_count": 8,
     "metadata": {},
     "output_type": "execute_result"
    }
   ],
   "source": [
    "# when I asked Python what the type of 100 was, it returned int -- not the string \"int\", telling me the type, but\n",
    "# rather the actual class int that is used to create new integers. Because int is an object, it has a type, as well!\n",
    "\n",
    "type(int)  # what type does the integer class have?"
   ]
  },
  {
   "cell_type": "code",
   "execution_count": 9,
   "metadata": {},
   "outputs": [
    {
     "data": {
      "text/plain": [
       "type"
      ]
     },
     "execution_count": 9,
     "metadata": {},
     "output_type": "execute_result"
    }
   ],
   "source": [
    "type(str)  # what type does the str class have?"
   ]
  },
  {
   "cell_type": "code",
   "execution_count": 10,
   "metadata": {},
   "outputs": [
    {
     "data": {
      "text/plain": [
       "type"
      ]
     },
     "execution_count": 10,
     "metadata": {},
     "output_type": "execute_result"
    }
   ],
   "source": [
    "type(list)  # what does the list class have?"
   ]
  },
  {
   "cell_type": "markdown",
   "metadata": {},
   "source": [
    "# Everything is an object\n",
    "\n",
    "- Strings are objects, of type `str`\n",
    "- `str` is an object, of type `type`\n",
    "- Every class, every factory for creating objects, is of type `type`\n",
    "- In other words, `type` is the factory that creates factories\n",
    "\n",
    "When I create a new object in Python, it has to have a type. That type is determined by what factory was used to create it. If I have a string, it was created by `str`, etc.\n",
    "\n",
    "We can sometimes call classes or types \"factory objects,\" because they are objects, but their job is to create other objects.\n",
    "\n",
    "The type of an object determines its behavor:\n",
    "- Strings behave a certain way\n",
    "- Integers behave a certain way\n",
    "- Lists behave a certain way"
   ]
  },
  {
   "cell_type": "code",
   "execution_count": 11,
   "metadata": {},
   "outputs": [
    {
     "data": {
      "text/plain": [
       "type"
      ]
     },
     "execution_count": 11,
     "metadata": {},
     "output_type": "execute_result"
    }
   ],
   "source": [
    "type(type)   # what, then ,is the type of type -- what is the type of the factory of factories?"
   ]
  },
  {
   "cell_type": "code",
   "execution_count": 12,
   "metadata": {},
   "outputs": [],
   "source": [
    "# the factory that creates factories created itself -- type(type) is always type."
   ]
  },
  {
   "cell_type": "code",
   "execution_count": 13,
   "metadata": {},
   "outputs": [
    {
     "data": {
      "text/plain": [
       "['__abs__',\n",
       " '__add__',\n",
       " '__and__',\n",
       " '__bool__',\n",
       " '__ceil__',\n",
       " '__class__',\n",
       " '__delattr__',\n",
       " '__dir__',\n",
       " '__divmod__',\n",
       " '__doc__',\n",
       " '__eq__',\n",
       " '__float__',\n",
       " '__floor__',\n",
       " '__floordiv__',\n",
       " '__format__',\n",
       " '__ge__',\n",
       " '__getattribute__',\n",
       " '__getnewargs__',\n",
       " '__getstate__',\n",
       " '__gt__',\n",
       " '__hash__',\n",
       " '__index__',\n",
       " '__init__',\n",
       " '__init_subclass__',\n",
       " '__int__',\n",
       " '__invert__',\n",
       " '__le__',\n",
       " '__lshift__',\n",
       " '__lt__',\n",
       " '__mod__',\n",
       " '__mul__',\n",
       " '__ne__',\n",
       " '__neg__',\n",
       " '__new__',\n",
       " '__or__',\n",
       " '__pos__',\n",
       " '__pow__',\n",
       " '__radd__',\n",
       " '__rand__',\n",
       " '__rdivmod__',\n",
       " '__reduce__',\n",
       " '__reduce_ex__',\n",
       " '__repr__',\n",
       " '__rfloordiv__',\n",
       " '__rlshift__',\n",
       " '__rmod__',\n",
       " '__rmul__',\n",
       " '__ror__',\n",
       " '__round__',\n",
       " '__rpow__',\n",
       " '__rrshift__',\n",
       " '__rshift__',\n",
       " '__rsub__',\n",
       " '__rtruediv__',\n",
       " '__rxor__',\n",
       " '__setattr__',\n",
       " '__sizeof__',\n",
       " '__str__',\n",
       " '__sub__',\n",
       " '__subclasshook__',\n",
       " '__truediv__',\n",
       " '__trunc__',\n",
       " '__xor__',\n",
       " 'as_integer_ratio',\n",
       " 'bit_count',\n",
       " 'bit_length',\n",
       " 'conjugate',\n",
       " 'denominator',\n",
       " 'from_bytes',\n",
       " 'imag',\n",
       " 'is_integer',\n",
       " 'numerator',\n",
       " 'real',\n",
       " 'to_bytes']"
      ]
     },
     "execution_count": 13,
     "metadata": {},
     "output_type": "execute_result"
    }
   ],
   "source": [
    "# everything has attributes\n",
    "\n",
    "x = 100\n",
    "dir(x)   # this will list (in a list of strings) the attributes available on x"
   ]
  },
  {
   "cell_type": "markdown",
   "metadata": {},
   "source": [
    "# What are attributes?\n",
    "\n",
    "Attributes are a storage mechanism in Python. Every object has one or more attributes, and can access them with a `.`.  That is, if I say `a.b`, I'm asking for the value of the attribute `b` on the object `a`.\n",
    "\n",
    "You've probably seen this in methods. And yes, methods are also attributes. "
   ]
  },
  {
   "cell_type": "code",
   "execution_count": 14,
   "metadata": {},
   "outputs": [
    {
     "data": {
      "text/plain": [
       "'ABCD'"
      ]
     },
     "execution_count": 14,
     "metadata": {},
     "output_type": "execute_result"
    }
   ],
   "source": [
    "s = 'abcd'  # I'm defining a string object\n",
    "\n",
    "s.upper()   # I'm retrieving the attribute s.upper, which happens to be a function/method, and then I run it with ()"
   ]
  },
  {
   "cell_type": "markdown",
   "metadata": {},
   "source": [
    "Who/what determines what attributes are defined on an object? The class.\n",
    "\n",
    "When the object is created, its class assigns a bunch of attributes. Strings get one set of attributes, integers get another, lists get yet another, etc.\n",
    "\n",
    "You can (largely) learn what attributes are being set on an object by looking at its class (or the class documentation).\n",
    "\n",
    "We can get the list of attributes with `dir`, but when we can retrieve the attribute with `.`. We can even assign to the attribute with `.`, putting it on the left side of assignment."
   ]
  },
  {
   "cell_type": "markdown",
   "metadata": {},
   "source": [
    "# Object-oriented programming is all about classes\n",
    "\n",
    "If you use OO programming to solve problems, what you're doing is like to consist of:\n",
    "\n",
    "- Deciding what data structures would help you to solve your problems\n",
    "- Creating data structures (new \"classes\") that embody those solutions\n",
    "- Each class will combine a data structure and or more methods (functions)\n",
    "- Once you have defined a new class, you can then create many *instances* of that class (objects of that type), for use in your program.\n",
    "\n",
    "If, for example, I'm writing a program that has to do with budgeting, then I'll need a class that represents a line item on the budget, and I'll need to write some methods (functionality) that would be useful for that line item."
   ]
  },
  {
   "cell_type": "markdown",
   "metadata": {},
   "source": [
    "# Example without objects: Getting a person's full name\n",
    "\n",
    "1. I'm going to define a tuple for a person's first name, last name, and shoe size.\n",
    "2. I'm going to show you that I can retrieve one or more of those fields.\n",
    "3. I'm going to write a function, `fullname`, that takes such a tuple and returns the person's full name."
   ]
  },
  {
   "cell_type": "code",
   "execution_count": 15,
   "metadata": {},
   "outputs": [
    {
     "data": {
      "text/plain": [
       "'Reuven'"
      ]
     },
     "execution_count": 15,
     "metadata": {},
     "output_type": "execute_result"
    }
   ],
   "source": [
    "person = ('Reuven', 'Lerner', 46)\n",
    "person[0]  # get the first name"
   ]
  },
  {
   "cell_type": "code",
   "execution_count": 16,
   "metadata": {},
   "outputs": [
    {
     "data": {
      "text/plain": [
       "'Lerner'"
      ]
     },
     "execution_count": 16,
     "metadata": {},
     "output_type": "execute_result"
    }
   ],
   "source": [
    "person[1]  # get the last name"
   ]
  },
  {
   "cell_type": "code",
   "execution_count": 17,
   "metadata": {},
   "outputs": [
    {
     "data": {
      "text/plain": [
       "46"
      ]
     },
     "execution_count": 17,
     "metadata": {},
     "output_type": "execute_result"
    }
   ],
   "source": [
    "person[2]  # get the shoe size"
   ]
  },
  {
   "cell_type": "code",
   "execution_count": 19,
   "metadata": {},
   "outputs": [
    {
     "data": {
      "text/plain": [
       "'Reuven Lerner'"
      ]
     },
     "execution_count": 19,
     "metadata": {},
     "output_type": "execute_result"
    }
   ],
   "source": [
    "# here, I have a function that, given the appropriate data structure will return the full name (first + last)\n",
    "def fullname(person_tuple):\n",
    "    return f'{person_tuple[0]} {person_tuple[1]}'\n",
    "\n",
    "fullname(person)"
   ]
  },
  {
   "cell_type": "markdown",
   "metadata": {},
   "source": [
    "# Example with objects: Define a `Person` class \n",
    "\n",
    "1. When we create a new `Person` object, we'll pass three arguments (first name, last name, shoe size)\n",
    "2. Those three arguments will be assigned to attributes on our object.\n",
    "3. We can write a method, `fullname`, that returns the user's full name."
   ]
  },
  {
   "cell_type": "code",
   "execution_count": 22,
   "metadata": {},
   "outputs": [
    {
     "data": {
      "text/plain": [
       "'Reuven Lerner'"
      ]
     },
     "execution_count": 22,
     "metadata": {},
     "output_type": "execute_result"
    }
   ],
   "source": [
    "# traditionally, a Python class has a Capitalized name (or CamelCase if you want more than one word)\n",
    "\n",
    "class Person:\n",
    "    def __init__(self, first_name, last_name, shoe_size):\n",
    "        self.first_name = first_name\n",
    "        self.last_name = last_name\n",
    "        self.shoe_size = shoe_size\n",
    "    def fullname(self):\n",
    "        return f'{self.first_name} {self.last_name}'\n",
    "\n",
    "# this code here shows us the power of objects -- we don't have to think about tuples,\n",
    "# etc.  We just think about a Person, and the types of actions we might want to invoke on that Person.\n",
    "p = Person('Reuven', 'Lerner', 46)  # here, we create a new Person object, aka a new instance of Person\n",
    "p.fullname()     # here, we invoke a method on our Person object, and get back a result"
   ]
  },
  {
   "cell_type": "markdown",
   "metadata": {},
   "source": [
    "# Defining a class\n",
    "\n",
    "When we define a class, aka a new type, aka a new data structure in Python, we use the `class` keyword. This tells Python: I'm about to create a new data structure that also has (potentially) methods.\n",
    "\n",
    "If you redefine a class, then the old one goes away. That's because defining a class is really assigning to a variable."
   ]
  },
  {
   "cell_type": "code",
   "execution_count": 23,
   "metadata": {},
   "outputs": [
    {
     "data": {
      "text/plain": [
       "__main__.Person"
      ]
     },
     "execution_count": 23,
     "metadata": {},
     "output_type": "execute_result"
    }
   ],
   "source": [
    "type(p)   # what kind of object is p?"
   ]
  },
  {
   "cell_type": "code",
   "execution_count": 24,
   "metadata": {},
   "outputs": [
    {
     "data": {
      "text/plain": [
       "type"
      ]
     },
     "execution_count": 24,
     "metadata": {},
     "output_type": "execute_result"
    }
   ],
   "source": [
    "type(Person)  # what kind of object is Person, the class that creates new Person objects?"
   ]
  },
  {
   "cell_type": "markdown",
   "metadata": {},
   "source": [
    "# What comes after the first line?\n",
    "\n",
    "Then we have an indented block with the class definition. The first thing that we normally do in our class is define the `__init__` method. (This is pronounced \"dunder init,\" for \"double underscores before and after, init\".)\n",
    "\n",
    "This is **NOT** the constructor method, aka the method that creates a new instance of our class.  The new object is already created before `__init__` is ever invoked! (But it's a very common mistake that people make.)\n",
    "\n",
    "The actual constructor method is something called `__new__`, and you should not expect to ever define it in your day-to-day Python programming work. \n",
    "\n",
    "After the object is created by `__new__`, then our initializer method, aka `__init__`, is invoked. Python automatically sticks the newly created object at the head of the arguments passed to `__init__`. That first argument is assigned to the first parameter, which we traditionally call `self`.\n",
    "\n",
    "`self` is the new instance! You could, in theory, use another parameter name, and not `self`. It is a very very strong convention in Python to always call the first parameter of a method `self`, and that is the instance of the object on which we're running.\n",
    "\n",
    "If you're wondering where the idea of splitting `__new__` and `__init__` came from, or where the name `self` came from -- all of them come from the Smalltalk language.\n",
    "\n",
    "What is the job of `__init__`? One thing, and one thing only: To add attributes to our new object. If your object doesn't have any attributes, then there's no need to define `__init__`. However, it's pretty rare to have an object that lacks any of its own attributes, so you're more likely than not going to define `__init_`."
   ]
  },
  {
   "cell_type": "markdown",
   "metadata": {},
   "source": [
    "# What happens when we create a new object?\n",
    "\n",
    "- We invoke the class name, e.g., `Person()`, with some arguments.\n",
    "- That leads `__new__` to be invoked. That's where the object is created.\n",
    "- `__new__` invokes `__init__`, passing both the new object (as `self`) and the arguments that we passed in the first stage.\n",
    "- `__init__` adds whatever attributes we want.\n",
    "- `__new__` returns the modified object to the caller\n",
    "\n",
    "Every time we create a new object, `__init__` is invoked. And every time, `self` thus refers to a different, new instance of our class.\n",
    "\n"
   ]
  },
  {
   "cell_type": "code",
   "execution_count": 25,
   "metadata": {},
   "outputs": [],
   "source": [
    "class Person:\n",
    "    def __init__(self, first_name, last_name, shoe_size):\n",
    "        self.first_name = first_name\n",
    "        self.last_name = last_name\n",
    "        self.shoe_size = shoe_size\n",
    "    def fullname(self):\n",
    "        return f'{self.first_name} {self.last_name}'\n"
   ]
  },
  {
   "cell_type": "markdown",
   "metadata": {},
   "source": [
    "# What did we do in `__init__`?\n",
    "\n",
    "We assigned three attributes to `self`, our new object.\n",
    "\n",
    "- Notice that the names of the parameters and the names of the attributes match up. This is for our benefit!\n",
    "- Typically, every parameter will be assigned to an attribute *or* will be sliced/diced/calculated to create one or more other attributes.\n",
    "- You can add a new attribute to an object in Python whenever you want; it doesn't have to be in `__init__`. But that would be a very bad idea, because it'll make it hard to understand and maintain your class. So even if an attribute doesn't have an initial value, you can always assign it in `__init__` to 0, empty string, `None`, so that it'll be self-documenting for people who are interested in understanding your object."
   ]
  },
  {
   "cell_type": "markdown",
   "metadata": {},
   "source": [
    "# What about `fullname`?\n",
    "\n",
    "We see here a method -- an action, or a function, that we can invoke on our object.  Every method's first parameter is traditionally `self`. That contains the object itself on which we're invoking it.\n",
    "\n",
    "Note that if we want to retrieve attributes (fields, or instance variables in other languages) from our object, we need to say `self.NAME`. "
   ]
  },
  {
   "cell_type": "code",
   "execution_count": null,
   "metadata": {},
   "outputs": [],
   "source": []
  }
 ],
 "metadata": {
  "kernelspec": {
   "display_name": "Python 3 (ipykernel)",
   "language": "python",
   "name": "python3"
  },
  "language_info": {
   "codemirror_mode": {
    "name": "ipython",
    "version": 3
   },
   "file_extension": ".py",
   "mimetype": "text/x-python",
   "name": "python",
   "nbconvert_exporter": "python",
   "pygments_lexer": "ipython3",
   "version": "3.13.0"
  }
 },
 "nbformat": 4,
 "nbformat_minor": 4
}
