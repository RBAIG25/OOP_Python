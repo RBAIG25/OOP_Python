{
 "cells": [
  {
   "cell_type": "markdown",
   "metadata": {},
   "source": [
    "# Welcome!\n",
    "\n",
    "1. What are objects?\n",
    "2. In Python, everything is an object\n",
    "3. Creating our own classes\n",
    "4. What happens when we create an object? (Constructor and initializer)\n",
    "5. Attributes\n",
    "6. More complex objects\n",
    "7. Methods\n",
    "8. Special parameters and our methods"
   ]
  },
  {
   "cell_type": "markdown",
   "metadata": {},
   "source": [
    "# What are objects?  (Why do we care about this whole object-oriented thing?)\n",
    "\n",
    "When people started to program, they had data and functions. \n",
    "\n",
    "- Data is nouns\n",
    "- Functions are verbs\n",
    "\n",
    "I can still make a mistake, and call a function on a data structure that isn't appropriate for it. This leads to confusion and frustration.\n",
    "\n",
    "Back in the 1970s-1980s, computer scientists suggested that we approach things differently, combining into a single package the nouns and the verbs.\n",
    "\n",
    "The whole point of object-oriented programming is to make it easier to write, debug, and maintain our software.  By thinking of our software as a collection of nouns, each of which can perform certain tasks, get inputs from the outside world and send outputs to other objects, we can think at a higher level of abstraction, and thus write better software.\n",
    "\n",
    "The first object-oriented programming language was Smalltalk. Python isn't a direct descendant of Smalltalk, but we see some aspects of it in Python, including the idea that everything is an object.\n",
    "\n",
    "What do we get out of OO programming?\n",
    "\n",
    "- Consistency. Our objects and the system's objects that come with Python all work in the same way.  If you learn a new library/module, it will also work in the same way.\n",
    "- Reuse. We can reuse code that we wrote before, or that other people (even people we've never met) have written, and have made available to us.\n",
    "- Abstraction. We don't need to think/worry about the details of the implementation in objects we're not currently modifying. We can think of them as a black box. Moreover, we don't have to think about lists, strings, tuples, and dicts -- we can think about high-level, real-world objects such as cars, people, desks, and companies.\n",
    "\n",
    "Even though everything in Python is an object, and knowing about Python's objects is super helpful, you don't need to employ object-oriented programming when using Python."
   ]
  },
  {
   "cell_type": "code",
   "execution_count": 1,
   "metadata": {},
   "outputs": [
    {
     "data": {
      "text/plain": [
       "4"
      ]
     },
     "execution_count": 1,
     "metadata": {},
     "output_type": "execute_result"
    }
   ],
   "source": [
    "s = 'abcd'\n",
    "\n",
    "len(s)  # here, we're calling the len function on the string s"
   ]
  },
  {
   "cell_type": "code",
   "execution_count": 2,
   "metadata": {},
   "outputs": [
    {
     "ename": "TypeError",
     "evalue": "object of type 'int' has no len()",
     "output_type": "error",
     "traceback": [
      "\u001b[0;31m---------------------------------------------------------------------------\u001b[0m",
      "\u001b[0;31mTypeError\u001b[0m                                 Traceback (most recent call last)",
      "Cell \u001b[0;32mIn[2], line 3\u001b[0m\n\u001b[1;32m      1\u001b[0m x \u001b[38;5;241m=\u001b[39m \u001b[38;5;241m100\u001b[39m\n\u001b[0;32m----> 3\u001b[0m \u001b[38;5;28;43mlen\u001b[39;49m\u001b[43m(\u001b[49m\u001b[43mx\u001b[49m\u001b[43m)\u001b[49m\n",
      "\u001b[0;31mTypeError\u001b[0m: object of type 'int' has no len()"
     ]
    }
   ],
   "source": [
    "x = 100\n",
    "\n",
    "len(x)"
   ]
  },
  {
   "cell_type": "markdown",
   "metadata": {},
   "source": [
    "# In Python, everything is an object\n",
    "\n",
    "What does this mean?  Everything in Python has three characteristics:\n",
    "\n",
    "- An ID number, which we can get with the `id` builtin function\n",
    "- A class, or a type, which we can get with the `type` builtin function\n",
    "- Attributes, its own dictionary of names and values that allow it to store data outside of variables\n"
   ]
  },
  {
   "cell_type": "code",
   "execution_count": 3,
   "metadata": {},
   "outputs": [
    {
     "data": {
      "text/plain": [
       "4460106896"
      ]
     },
     "execution_count": 3,
     "metadata": {},
     "output_type": "execute_result"
    }
   ],
   "source": [
    "x = 100\n",
    "\n",
    "# is 100, which x refers to, an object\n",
    "id(x)   # what unique number does 100 have in Python's memory?\n",
    "\n",
    "\n",
    "# the id number is actually the address of the object in memory"
   ]
  },
  {
   "cell_type": "code",
   "execution_count": 5,
   "metadata": {},
   "outputs": [
    {
     "data": {
      "text/plain": [
       "int"
      ]
     },
     "execution_count": 5,
     "metadata": {},
     "output_type": "execute_result"
    }
   ],
   "source": [
    "# everything has a class, or a type\n",
    "# this class/type indicates what functionality the object has\n",
    "\n",
    "# all strings are of type str\n",
    "# all integers are of type int\n",
    "# all lists are of type list\n",
    "\n",
    "# we know that all objects of type X are going to behave in a certain way.\n",
    "type(100)"
   ]
  },
  {
   "cell_type": "code",
   "execution_count": 6,
   "metadata": {},
   "outputs": [
    {
     "data": {
      "text/plain": [
       "str"
      ]
     },
     "execution_count": 6,
     "metadata": {},
     "output_type": "execute_result"
    }
   ],
   "source": [
    "type('abcd')"
   ]
  },
  {
   "cell_type": "code",
   "execution_count": 7,
   "metadata": {},
   "outputs": [
    {
     "data": {
      "text/plain": [
       "list"
      ]
     },
     "execution_count": 7,
     "metadata": {},
     "output_type": "execute_result"
    }
   ],
   "source": [
    "type([10, 20, 30])"
   ]
  },
  {
   "cell_type": "code",
   "execution_count": 8,
   "metadata": {},
   "outputs": [
    {
     "data": {
      "text/plain": [
       "type"
      ]
     },
     "execution_count": 8,
     "metadata": {},
     "output_type": "execute_result"
    }
   ],
   "source": [
    "# when I asked Python what the type of 100 was, it returned int -- not the string \"int\", telling me the type, but\n",
    "# rather the actual class int that is used to create new integers. Because int is an object, it has a type, as well!\n",
    "\n",
    "type(int)  # what type does the integer class have?"
   ]
  },
  {
   "cell_type": "code",
   "execution_count": 9,
   "metadata": {},
   "outputs": [
    {
     "data": {
      "text/plain": [
       "type"
      ]
     },
     "execution_count": 9,
     "metadata": {},
     "output_type": "execute_result"
    }
   ],
   "source": [
    "type(str)  # what type does the str class have?"
   ]
  },
  {
   "cell_type": "code",
   "execution_count": 10,
   "metadata": {},
   "outputs": [
    {
     "data": {
      "text/plain": [
       "type"
      ]
     },
     "execution_count": 10,
     "metadata": {},
     "output_type": "execute_result"
    }
   ],
   "source": [
    "type(list)  # what does the list class have?"
   ]
  },
  {
   "cell_type": "markdown",
   "metadata": {},
   "source": [
    "# Everything is an object\n",
    "\n",
    "- Strings are objects, of type `str`\n",
    "- `str` is an object, of type `type`\n",
    "- Every class, every factory for creating objects, is of type `type`\n",
    "- In other words, `type` is the factory that creates factories\n",
    "\n",
    "When I create a new object in Python, it has to have a type. That type is determined by what factory was used to create it. If I have a string, it was created by `str`, etc.\n",
    "\n",
    "We can sometimes call classes or types \"factory objects,\" because they are objects, but their job is to create other objects.\n",
    "\n",
    "The type of an object determines its behavor:\n",
    "- Strings behave a certain way\n",
    "- Integers behave a certain way\n",
    "- Lists behave a certain way"
   ]
  },
  {
   "cell_type": "code",
   "execution_count": 11,
   "metadata": {},
   "outputs": [
    {
     "data": {
      "text/plain": [
       "type"
      ]
     },
     "execution_count": 11,
     "metadata": {},
     "output_type": "execute_result"
    }
   ],
   "source": [
    "type(type)   # what, then ,is the type of type -- what is the type of the factory of factories?"
   ]
  },
  {
   "cell_type": "code",
   "execution_count": 12,
   "metadata": {},
   "outputs": [],
   "source": [
    "# the factory that creates factories created itself -- type(type) is always type."
   ]
  },
  {
   "cell_type": "code",
   "execution_count": 13,
   "metadata": {},
   "outputs": [
    {
     "data": {
      "text/plain": [
       "['__abs__',\n",
       " '__add__',\n",
       " '__and__',\n",
       " '__bool__',\n",
       " '__ceil__',\n",
       " '__class__',\n",
       " '__delattr__',\n",
       " '__dir__',\n",
       " '__divmod__',\n",
       " '__doc__',\n",
       " '__eq__',\n",
       " '__float__',\n",
       " '__floor__',\n",
       " '__floordiv__',\n",
       " '__format__',\n",
       " '__ge__',\n",
       " '__getattribute__',\n",
       " '__getnewargs__',\n",
       " '__getstate__',\n",
       " '__gt__',\n",
       " '__hash__',\n",
       " '__index__',\n",
       " '__init__',\n",
       " '__init_subclass__',\n",
       " '__int__',\n",
       " '__invert__',\n",
       " '__le__',\n",
       " '__lshift__',\n",
       " '__lt__',\n",
       " '__mod__',\n",
       " '__mul__',\n",
       " '__ne__',\n",
       " '__neg__',\n",
       " '__new__',\n",
       " '__or__',\n",
       " '__pos__',\n",
       " '__pow__',\n",
       " '__radd__',\n",
       " '__rand__',\n",
       " '__rdivmod__',\n",
       " '__reduce__',\n",
       " '__reduce_ex__',\n",
       " '__repr__',\n",
       " '__rfloordiv__',\n",
       " '__rlshift__',\n",
       " '__rmod__',\n",
       " '__rmul__',\n",
       " '__ror__',\n",
       " '__round__',\n",
       " '__rpow__',\n",
       " '__rrshift__',\n",
       " '__rshift__',\n",
       " '__rsub__',\n",
       " '__rtruediv__',\n",
       " '__rxor__',\n",
       " '__setattr__',\n",
       " '__sizeof__',\n",
       " '__str__',\n",
       " '__sub__',\n",
       " '__subclasshook__',\n",
       " '__truediv__',\n",
       " '__trunc__',\n",
       " '__xor__',\n",
       " 'as_integer_ratio',\n",
       " 'bit_count',\n",
       " 'bit_length',\n",
       " 'conjugate',\n",
       " 'denominator',\n",
       " 'from_bytes',\n",
       " 'imag',\n",
       " 'is_integer',\n",
       " 'numerator',\n",
       " 'real',\n",
       " 'to_bytes']"
      ]
     },
     "execution_count": 13,
     "metadata": {},
     "output_type": "execute_result"
    }
   ],
   "source": [
    "# everything has attributes\n",
    "\n",
    "x = 100\n",
    "dir(x)   # this will list (in a list of strings) the attributes available on x"
   ]
  },
  {
   "cell_type": "markdown",
   "metadata": {},
   "source": [
    "# What are attributes?\n",
    "\n",
    "Attributes are a storage mechanism in Python. Every object has one or more attributes, and can access them with a `.`.  That is, if I say `a.b`, I'm asking for the value of the attribute `b` on the object `a`.\n",
    "\n",
    "You've probably seen this in methods. And yes, methods are also attributes. "
   ]
  },
  {
   "cell_type": "code",
   "execution_count": 14,
   "metadata": {},
   "outputs": [
    {
     "data": {
      "text/plain": [
       "'ABCD'"
      ]
     },
     "execution_count": 14,
     "metadata": {},
     "output_type": "execute_result"
    }
   ],
   "source": [
    "s = 'abcd'  # I'm defining a string object\n",
    "\n",
    "s.upper()   # I'm retrieving the attribute s.upper, which happens to be a function/method, and then I run it with ()"
   ]
  },
  {
   "cell_type": "markdown",
   "metadata": {},
   "source": [
    "Who/what determines what attributes are defined on an object? The class.\n",
    "\n",
    "When the object is created, its class assigns a bunch of attributes. Strings get one set of attributes, integers get another, lists get yet another, etc.\n",
    "\n",
    "You can (largely) learn what attributes are being set on an object by looking at its class (or the class documentation).\n",
    "\n",
    "We can get the list of attributes with `dir`, but when we can retrieve the attribute with `.`. We can even assign to the attribute with `.`, putting it on the left side of assignment."
   ]
  },
  {
   "cell_type": "markdown",
   "metadata": {},
   "source": [
    "# Object-oriented programming is all about classes\n",
    "\n",
    "If you use OO programming to solve problems, what you're doing is like to consist of:\n",
    "\n",
    "- Deciding what data structures would help you to solve your problems\n",
    "- Creating data structures (new \"classes\") that embody those solutions\n",
    "- Each class will combine a data structure and or more methods (functions)\n",
    "- Once you have defined a new class, you can then create many *instances* of that class (objects of that type), for use in your program.\n",
    "\n",
    "If, for example, I'm writing a program that has to do with budgeting, then I'll need a class that represents a line item on the budget, and I'll need to write some methods (functionality) that would be useful for that line item."
   ]
  },
  {
   "cell_type": "markdown",
   "metadata": {},
   "source": [
    "# Example without objects: Getting a person's full name\n",
    "\n",
    "1. I'm going to define a tuple for a person's first name, last name, and shoe size.\n",
    "2. I'm going to show you that I can retrieve one or more of those fields.\n",
    "3. I'm going to write a function, `fullname`, that takes such a tuple and returns the person's full name."
   ]
  },
  {
   "cell_type": "code",
   "execution_count": 15,
   "metadata": {},
   "outputs": [
    {
     "data": {
      "text/plain": [
       "'Reuven'"
      ]
     },
     "execution_count": 15,
     "metadata": {},
     "output_type": "execute_result"
    }
   ],
   "source": [
    "person = ('Reuven', 'Lerner', 46)\n",
    "person[0]  # get the first name"
   ]
  },
  {
   "cell_type": "code",
   "execution_count": 16,
   "metadata": {},
   "outputs": [
    {
     "data": {
      "text/plain": [
       "'Lerner'"
      ]
     },
     "execution_count": 16,
     "metadata": {},
     "output_type": "execute_result"
    }
   ],
   "source": [
    "person[1]  # get the last name"
   ]
  },
  {
   "cell_type": "code",
   "execution_count": 17,
   "metadata": {},
   "outputs": [
    {
     "data": {
      "text/plain": [
       "46"
      ]
     },
     "execution_count": 17,
     "metadata": {},
     "output_type": "execute_result"
    }
   ],
   "source": [
    "person[2]  # get the shoe size"
   ]
  },
  {
   "cell_type": "code",
   "execution_count": 19,
   "metadata": {},
   "outputs": [
    {
     "data": {
      "text/plain": [
       "'Reuven Lerner'"
      ]
     },
     "execution_count": 19,
     "metadata": {},
     "output_type": "execute_result"
    }
   ],
   "source": [
    "# here, I have a function that, given the appropriate data structure will return the full name (first + last)\n",
    "def fullname(person_tuple):\n",
    "    return f'{person_tuple[0]} {person_tuple[1]}'\n",
    "\n",
    "fullname(person)"
   ]
  },
  {
   "cell_type": "markdown",
   "metadata": {},
   "source": [
    "# Example with objects: Define a `Person` class \n",
    "\n",
    "1. When we create a new `Person` object, we'll pass three arguments (first name, last name, shoe size)\n",
    "2. Those three arguments will be assigned to attributes on our object.\n",
    "3. We can write a method, `fullname`, that returns the user's full name."
   ]
  },
  {
   "cell_type": "code",
   "execution_count": 22,
   "metadata": {},
   "outputs": [
    {
     "data": {
      "text/plain": [
       "'Reuven Lerner'"
      ]
     },
     "execution_count": 22,
     "metadata": {},
     "output_type": "execute_result"
    }
   ],
   "source": [
    "# traditionally, a Python class has a Capitalized name (or CamelCase if you want more than one word)\n",
    "\n",
    "class Person:\n",
    "    def __init__(self, first_name, last_name, shoe_size):\n",
    "        self.first_name = first_name\n",
    "        self.last_name = last_name\n",
    "        self.shoe_size = shoe_size\n",
    "    def fullname(self):\n",
    "        return f'{self.first_name} {self.last_name}'\n",
    "\n",
    "# this code here shows us the power of objects -- we don't have to think about tuples,\n",
    "# etc.  We just think about a Person, and the types of actions we might want to invoke on that Person.\n",
    "p = Person('Reuven', 'Lerner', 46)  # here, we create a new Person object, aka a new instance of Person\n",
    "p.fullname()     # here, we invoke a method on our Person object, and get back a result"
   ]
  },
  {
   "cell_type": "markdown",
   "metadata": {},
   "source": [
    "# Defining a class\n",
    "\n",
    "When we define a class, aka a new type, aka a new data structure in Python, we use the `class` keyword. This tells Python: I'm about to create a new data structure that also has (potentially) methods.\n",
    "\n",
    "If you redefine a class, then the old one goes away. That's because defining a class is really assigning to a variable."
   ]
  },
  {
   "cell_type": "code",
   "execution_count": 23,
   "metadata": {},
   "outputs": [
    {
     "data": {
      "text/plain": [
       "__main__.Person"
      ]
     },
     "execution_count": 23,
     "metadata": {},
     "output_type": "execute_result"
    }
   ],
   "source": [
    "type(p)   # what kind of object is p?"
   ]
  },
  {
   "cell_type": "code",
   "execution_count": 24,
   "metadata": {},
   "outputs": [
    {
     "data": {
      "text/plain": [
       "type"
      ]
     },
     "execution_count": 24,
     "metadata": {},
     "output_type": "execute_result"
    }
   ],
   "source": [
    "type(Person)  # what kind of object is Person, the class that creates new Person objects?"
   ]
  },
  {
   "cell_type": "markdown",
   "metadata": {},
   "source": [
    "# What comes after the first line?\n",
    "\n",
    "Then we have an indented block with the class definition. The first thing that we normally do in our class is define the `__init__` method. (This is pronounced \"dunder init,\" for \"double underscores before and after, init\".)\n",
    "\n",
    "This is **NOT** the constructor method, aka the method that creates a new instance of our class.  The new object is already created before `__init__` is ever invoked! (But it's a very common mistake that people make.)\n",
    "\n",
    "The actual constructor method is something called `__new__`, and you should not expect to ever define it in your day-to-day Python programming work. \n",
    "\n",
    "After the object is created by `__new__`, then our initializer method, aka `__init__`, is invoked. Python automatically sticks the newly created object at the head of the arguments passed to `__init__`. That first argument is assigned to the first parameter, which we traditionally call `self`.\n",
    "\n",
    "`self` is the new instance! You could, in theory, use another parameter name, and not `self`. It is a very very strong convention in Python to always call the first parameter of a method `self`, and that is the instance of the object on which we're running.\n",
    "\n",
    "If you're wondering where the idea of splitting `__new__` and `__init__` came from, or where the name `self` came from -- all of them come from the Smalltalk language.\n",
    "\n",
    "What is the job of `__init__`? One thing, and one thing only: To add attributes to our new object. If your object doesn't have any attributes, then there's no need to define `__init__`. However, it's pretty rare to have an object that lacks any of its own attributes, so you're more likely than not going to define `__init_`."
   ]
  },
  {
   "cell_type": "markdown",
   "metadata": {},
   "source": [
    "# What happens when we create a new object?\n",
    "\n",
    "- We invoke the class name, e.g., `Person()`, with some arguments.\n",
    "- That leads `__new__` to be invoked. That's where the object is created.\n",
    "- `__new__` invokes `__init__`, passing both the new object (as `self`) and the arguments that we passed in the first stage.\n",
    "- `__init__` adds whatever attributes we want.\n",
    "- `__new__` returns the modified object to the caller\n",
    "\n",
    "Every time we create a new object, `__init__` is invoked. And every time, `self` thus refers to a different, new instance of our class.\n",
    "\n"
   ]
  },
  {
   "cell_type": "code",
   "execution_count": 25,
   "metadata": {},
   "outputs": [],
   "source": [
    "class Person:\n",
    "    def __init__(self, first_name, last_name, shoe_size):\n",
    "        self.first_name = first_name\n",
    "        self.last_name = last_name\n",
    "        self.shoe_size = shoe_size\n",
    "    def fullname(self):\n",
    "        return f'{self.first_name} {self.last_name}'\n"
   ]
  },
  {
   "cell_type": "markdown",
   "metadata": {},
   "source": [
    "# What did we do in `__init__`?\n",
    "\n",
    "We assigned three attributes to `self`, our new object.\n",
    "\n",
    "- Notice that the names of the parameters and the names of the attributes match up. This is for our benefit!\n",
    "- Typically, every parameter will be assigned to an attribute *or* will be sliced/diced/calculated to create one or more other attributes.\n",
    "- You can add a new attribute to an object in Python whenever you want; it doesn't have to be in `__init__`. But that would be a very bad idea, because it'll make it hard to understand and maintain your class. So even if an attribute doesn't have an initial value, you can always assign it in `__init__` to 0, empty string, `None`, so that it'll be self-documenting for people who are interested in understanding your object."
   ]
  },
  {
   "cell_type": "markdown",
   "metadata": {},
   "source": [
    "# What about `fullname`?\n",
    "\n",
    "We see here a method -- an action, or a function, that we can invoke on our object.  Every method's first parameter is traditionally `self`. That contains the object itself on which we're invoking it.\n",
    "\n",
    "Note that if we want to retrieve attributes (fields, or instance variables in other languages) from our object, we need to say `self.NAME`. "
   ]
  },
  {
   "cell_type": "code",
   "execution_count": 26,
   "metadata": {},
   "outputs": [
    {
     "data": {
      "text/plain": [
       "['__class__',\n",
       " '__delattr__',\n",
       " '__dict__',\n",
       " '__dir__',\n",
       " '__doc__',\n",
       " '__eq__',\n",
       " '__firstlineno__',\n",
       " '__format__',\n",
       " '__ge__',\n",
       " '__getattribute__',\n",
       " '__getstate__',\n",
       " '__gt__',\n",
       " '__hash__',\n",
       " '__init__',\n",
       " '__init_subclass__',\n",
       " '__le__',\n",
       " '__lt__',\n",
       " '__module__',\n",
       " '__ne__',\n",
       " '__new__',\n",
       " '__reduce__',\n",
       " '__reduce_ex__',\n",
       " '__repr__',\n",
       " '__setattr__',\n",
       " '__sizeof__',\n",
       " '__static_attributes__',\n",
       " '__str__',\n",
       " '__subclasshook__',\n",
       " '__weakref__',\n",
       " 'fullname']"
      ]
     },
     "execution_count": 26,
     "metadata": {},
     "output_type": "execute_result"
    }
   ],
   "source": [
    "dir(Person)"
   ]
  },
  {
   "cell_type": "markdown",
   "metadata": {},
   "source": [
    "# Why do we need to say `self` so often?\n",
    "\n",
    "Python wants it to be clear and explicit about whether we're working with our object (using attributes) or if we're using variables (local or global).\n",
    "\n",
    "Without a dot before the name, we're using a variable (local or global).\n",
    "\n",
    "With a dot before the name, we're using an attribute on an object of some sort.\n",
    "\n",
    "With `self.`, we're referring to the current instance, the current object on which we're running."
   ]
  },
  {
   "cell_type": "code",
   "execution_count": null,
   "metadata": {},
   "outputs": [],
   "source": [
    "# traditionally, a Python class has a Capitalized name (or CamelCase if you want more than one word)\n",
    "\n",
    "class Person:\n",
    "    def __init__(self, first_name, last_name, shoe_size):\n",
    "        self.first_name = first_name\n",
    "        self.last_name = last_name\n",
    "        self.shoe_size = shoe_size\n",
    "    def fullname(self):\n",
    "        return f'{self.first_name} {self.last_name}'\n",
    "\n",
    "# this code here shows us the power of objects -- we don't have to think about tuples,\n",
    "# etc.  We just think about a Person, and the types of actions we might want to invoke on that Person.\n",
    "p = Person('Reuven', 'Lerner', 46)  # here, we create a new Person object, aka a new instance of Person\n",
    "p.fullname()     # here, we invoke a method on our Person object, and get back a result"
   ]
  },
  {
   "cell_type": "markdown",
   "metadata": {},
   "source": [
    "Link to the Python tutor with the above class:\n",
    "\n",
    "https://pythontutor.com/render.html#code=%0Aclass%20Person%3A%0A%20%20%20%20def%20__init__%28self,%20first_name,%20last_name,%20shoe_size%29%3A%0A%20%20%20%20%20%20%20%20self.first_name%20%3D%20first_name%0A%20%20%20%20%20%20%20%20self.last_name%20%3D%20last_name%0A%20%20%20%20%20%20%20%20self.shoe_size%20%3D%20shoe_size%0A%20%20%20%20def%20fullname%28self%29%3A%0A%20%20%20%20%20%20%20%20return%20f'%7Bself.first_name%7D%20%7Bself.last_name%7D'%0A%0Ap%20%3D%20Person%28'Reuven',%20'Lerner',%2046%29%0Ap.fullname%28%29&cumulative=false&curInstr=11&heapPrimitives=nevernest&mode=display&origin=opt-frontend.js&py=311&rawInputLstJSON=%5B%5D&textReferences=false"
   ]
  },
  {
   "cell_type": "markdown",
   "metadata": {},
   "source": [
    "# Next up\n",
    "\n",
    "1. You'll create your own class(es)\n",
    "2. Constructors, initializers, assigning to attributes and ... starting to write methods\n",
    "3. Getters and setters (or the lack thereof)"
   ]
  },
  {
   "cell_type": "code",
   "execution_count": 27,
   "metadata": {},
   "outputs": [
    {
     "name": "stdout",
     "output_type": "stream",
     "text": [
      "Reuven Lerner\n"
     ]
    }
   ],
   "source": [
    "class Person:\n",
    "    def __init__(self, first_name, last_name, shoe_size):\n",
    "        self.first_name = first_name\n",
    "        self.last_name = last_name\n",
    "        self.shoe_size = shoe_size\n",
    "    def fullname(self):\n",
    "        return f'{self.first_name} {self.last_name}'\n",
    "\n",
    "p = Person('Reuven', 'Lerner', 46) \n",
    "print(p.fullname())"
   ]
  },
  {
   "cell_type": "code",
   "execution_count": 28,
   "metadata": {},
   "outputs": [
    {
     "name": "stdout",
     "output_type": "stream",
     "text": [
      "Reuven Lerner\n",
      "Reuven\n",
      "Lerner\n",
      "46\n"
     ]
    }
   ],
   "source": [
    "# how can I get the person's first name?\n",
    "# in most programming languages, I am going to want to write a \"getter\" method\n",
    "\n",
    "class Person:\n",
    "    def __init__(self, first_name, last_name, shoe_size):\n",
    "        self.first_name = first_name\n",
    "        self.last_name = last_name\n",
    "        self.shoe_size = shoe_size\n",
    "    def fullname(self):\n",
    "        return f'{self.first_name} {self.last_name}'\n",
    "    def get_first_name(self):\n",
    "        return self.first_name\n",
    "    def get_last_name(self):\n",
    "        return self.last_name\n",
    "    def get_shoe_size(self):\n",
    "        return self.shoe_size\n",
    "        \n",
    "\n",
    "p = Person('Reuven', 'Lerner', 46) \n",
    "print(p.fullname())\n",
    "print(p.get_first_name())\n",
    "print(p.get_last_name())\n",
    "print(p.get_shoe_size())"
   ]
  },
  {
   "cell_type": "code",
   "execution_count": 34,
   "metadata": {},
   "outputs": [
    {
     "name": "stdout",
     "output_type": "stream",
     "text": [
      "Reuven Lerner\n",
      "Reuven\n",
      "Lerner\n",
      "46\n",
      "Newfirst Newlast\n"
     ]
    }
   ],
   "source": [
    "# what if I want to change attributes? Then I'll need a separate set of methods, known as \"setters\"\n",
    "# how can I get the person's first name?\n",
    "\n",
    "class Person:\n",
    "    def __init__(self, first_name, last_name, shoe_size):\n",
    "        self.first_name = first_name\n",
    "        self.last_name = last_name\n",
    "        self.shoe_size = shoe_size\n",
    "        \n",
    "    def fullname(self):\n",
    "        return f'{self.first_name} {self.last_name}'\n",
    "        \n",
    "    # getters -- retrieve from attributes\n",
    "    def get_first_name(self):\n",
    "        return self.first_name\n",
    "    def get_last_name(self):\n",
    "        return self.last_name\n",
    "    def get_shoe_size(self):\n",
    "        return self.shoe_size\n",
    "\n",
    "    # setters -- assign to attributes\n",
    "    def set_first_name(self, new_first_name):\n",
    "        self.first_name = new_first_name\n",
    "    def set_last_name(self, new_last_name):\n",
    "        self.last_name = new_last_name\n",
    "    def set_shoe_size(self, new_shoe_size):\n",
    "        self.shoe_size = new_shoe_size\n",
    "\n",
    "p = Person('Reuven', 'Lerner', 46) \n",
    "\n",
    "print(p.fullname())\n",
    "print(p.get_first_name())\n",
    "print(p.get_last_name())\n",
    "print(p.get_shoe_size())\n",
    "\n",
    "p.set_first_name('Newfirst')\n",
    "p.set_last_name('Newlast')\n",
    "print(p.fullname())"
   ]
  },
  {
   "cell_type": "markdown",
   "metadata": {},
   "source": [
    "# Python classes rarely have getters and setters\n",
    "\n",
    "In Python, we almost never write getter and setter methods. Why not?\n",
    "\n",
    "Because there is no such thing as \"private\" or \"protected\" in Python. All attributes, without exception, are publicly visible, retrievable, and settable by absolutely everyone in the program. \n",
    "\n",
    "As such, why have a method that retrieves the attribute for us when we can just retrieve the attribute ourselves?\n",
    "\n",
    "Similarly, why have a method that sets the attribute for us when we can just set it ourselves?\n",
    "\n",
    "So... our class doesn't need all of these methods, at least according to many Python idioms. Instead, we can just retrieve and set directly."
   ]
  },
  {
   "cell_type": "code",
   "execution_count": 35,
   "metadata": {},
   "outputs": [
    {
     "name": "stdout",
     "output_type": "stream",
     "text": [
      "Reuven Lerner\n",
      "Reuven\n",
      "Lerner\n",
      "46\n",
      "Newfirst Newlast\n"
     ]
    }
   ],
   "source": [
    "# what if I want to change attributes? Then I'll need a separate set of methods, known as \"setters\"\n",
    "# how can I get the person's first name?\n",
    "\n",
    "class Person:\n",
    "    def __init__(self, first_name, last_name, shoe_size):\n",
    "        self.first_name = first_name\n",
    "        self.last_name = last_name\n",
    "        self.shoe_size = shoe_size\n",
    "        \n",
    "    def fullname(self):\n",
    "        return f'{self.first_name} {self.last_name}'\n",
    "        \n",
    "p = Person('Reuven', 'Lerner', 46) \n",
    "\n",
    "print(p.fullname())\n",
    "print(p.first_name)\n",
    "print(p.last_name)\n",
    "print(p.shoe_size)\n",
    "\n",
    "p.first_name = 'Newfirst'\n",
    "p.last_name = 'Newlast'\n",
    "print(p.fullname())"
   ]
  },
  {
   "cell_type": "markdown",
   "metadata": {},
   "source": [
    "# What is going on here?\n",
    "\n",
    "Python's objects are not limited. They are deliberately designed to be simple and straightforward, without a lot of overhead. Python's objects can do anything that we want, just as objects in other languages can do whatever we want.\n",
    "\n",
    "However, it was decided long ago:\n",
    "\n",
    "- Everything is public (no private or protected)\n",
    "- As such, we retrieve from and assign to attributes directly\n",
    "- Keep the class definitions simple, short, and clear\n",
    "\n",
    "There are some downsides to this:\n",
    "- We cannot easily do sanity checking on inputs when someone assigns to an attribute\n",
    "- We also lose a bit of the abstraction layer, in that we need to work directly with the attributes\n",
    "\n",
    "Python classes tend to be much shorter than their counterparts in other languages."
   ]
  },
  {
   "cell_type": "markdown",
   "metadata": {},
   "source": [
    "# Exercise: Friendly person\n",
    "\n",
    "1. Define a `Person` class that has two attributes, both of which are set when we create an instance: `first_name` and `last_name`.\n",
    "2. Make sure that you can retrieve both of these attributes, and that you can set them, as well. (Retrieve + print, then set them to something new, then retrieve + print again, and see that they have changed.)\n",
    "3. Add a method, `greet`, that returns a string starting with `'Hello'` and ending with their first and last names.\n",
    "4. Create two instances of `Person` and invoke `greet` on each of them."
   ]
  },
  {
   "cell_type": "code",
   "execution_count": 42,
   "metadata": {},
   "outputs": [
    {
     "name": "stdout",
     "output_type": "stream",
     "text": [
      "Hello, Reuven Lerner\n",
      "Hello, Someone Else\n"
     ]
    }
   ],
   "source": [
    "class Person:\n",
    "    def __init__(self, first_name, last_name):\n",
    "        self.first_name = first_name\n",
    "        self.last_name = last_name\n",
    "    def greet(self):\n",
    "        return f'Hello, {self.fullname()}'\n",
    "    def fullname(self):\n",
    "        return f'{self.first_name} {self.last_name}'\n",
    "\n",
    "p1 = Person('Reuven', 'Lerner')\n",
    "p2 = Person('Someone', 'Else')\n",
    "\n",
    "print(p1.greet())\n",
    "print(p2.greet())"
   ]
  },
  {
   "cell_type": "code",
   "execution_count": 43,
   "metadata": {},
   "outputs": [
    {
     "data": {
      "text/plain": [
       "'Reuven'"
      ]
     },
     "execution_count": 43,
     "metadata": {},
     "output_type": "execute_result"
    }
   ],
   "source": [
    "p1.first_name"
   ]
  },
  {
   "cell_type": "code",
   "execution_count": 44,
   "metadata": {},
   "outputs": [
    {
     "data": {
      "text/plain": [
       "'Else'"
      ]
     },
     "execution_count": 44,
     "metadata": {},
     "output_type": "execute_result"
    }
   ],
   "source": [
    "p2.last_name"
   ]
  },
  {
   "cell_type": "code",
   "execution_count": 45,
   "metadata": {},
   "outputs": [
    {
     "name": "stdout",
     "output_type": "stream",
     "text": [
      "Hello, Asdfasdfafafa Lerner\n",
      "Hello, Someone Xdsfgdg\n"
     ]
    }
   ],
   "source": [
    "p1.first_name = 'Asdfasdfafafa'\n",
    "p2.last_name = 'Xdsfgdg'\n",
    "\n",
    "print(p1.greet())\n",
    "print(p2.greet())"
   ]
  },
  {
   "cell_type": "markdown",
   "metadata": {},
   "source": [
    "# Typos are dangerous!\n",
    "\n",
    "Because we can assign to *any* attribute on any object in Python, and because assigning to an attribute that doesn't yet exist creates it, we can easily make a mistake, and create a new attribute rather than update an existing value.\n",
    "\n",
    "You have to be a bit careful when you're assigning to attributes, to make sure that the name you use is the one that your methods (and the rest of the class) are looking for."
   ]
  },
  {
   "cell_type": "code",
   "execution_count": 46,
   "metadata": {},
   "outputs": [
    {
     "name": "stdout",
     "output_type": "stream",
     "text": [
      "Hello, Reuven Lerner\n",
      "Hello, Bob Dobaleena\n"
     ]
    }
   ],
   "source": [
    "# JK\n",
    "\n",
    "class FriendlyPerson:\n",
    "  def __init__(self, first_name, last_name):\n",
    "    self.first_name = first_name\n",
    "    self.last_name = last_name\n",
    "  def fullname(self):\n",
    "    return f'{self.first_name} {self.last_name}'  \n",
    "  def greet(self):\n",
    "    # return f'Hello, {self.fullname}'\n",
    "    return f'Hello, {self.first_name} {self.last_name}'\n",
    "\n",
    "p = FriendlyPerson('Reuven', 'Lerner')\n",
    "print(p.greet())\n",
    "\n",
    "p = FriendlyPerson('Bob', 'Dobaleena')\n",
    "print(p.greet())"
   ]
  },
  {
   "cell_type": "code",
   "execution_count": 48,
   "metadata": {},
   "outputs": [],
   "source": [
    "p = Person(\"firsname\",\"lastname\").fullname()"
   ]
  },
  {
   "cell_type": "code",
   "execution_count": 49,
   "metadata": {},
   "outputs": [
    {
     "data": {
      "text/plain": [
       "'firsname lastname'"
      ]
     },
     "execution_count": 49,
     "metadata": {},
     "output_type": "execute_result"
    }
   ],
   "source": [
    "# what is the value of p here?\n",
    "p"
   ]
  },
  {
   "cell_type": "markdown",
   "metadata": {},
   "source": [
    "# Defining attributes before `__init__`\n",
    "\n",
    "In languages like C++ and Java, a class is a blueprint for creating a new object. Part of that blueprint includes a list of the fields (aka instance variables) that *will* be defined on each object of that type. You declare those fields in the class definition, and then you have to assign to them in one or more methods.\n",
    "\n",
    "Python works very differently. There is no way to declare fields in advance! The attributes (which are what we use for fields and instance variables) are assigned when the instance is created. If you create 10 instances, then the attributes will be created 10 times, once for each of the objects we create, as `__init__` is invoked.\n",
    "\n",
    "This is why it's so important for us to define all of our attributes in `__init__` -- not for technical reasons, but for maintenance and readability reasons. We want to be able to read a class, look at its `__init__`, and have a good sense of what attributes will be defined."
   ]
  },
  {
   "cell_type": "markdown",
   "metadata": {},
   "source": [
    "# A useful (and quirky) part of Jupyter\n",
    "\n",
    "Normally, Python programs only print output when you use `print`. In Jupyter, by contrast, if the final line of a cell contains an expression, then the expression's value is displayed after the cell is executed. But only the final line gets this treatment."
   ]
  },
  {
   "cell_type": "code",
   "execution_count": 50,
   "metadata": {},
   "outputs": [
    {
     "data": {
      "text/plain": [
       "60"
      ]
     },
     "execution_count": 50,
     "metadata": {},
     "output_type": "execute_result"
    }
   ],
   "source": [
    "10+10\n",
    "20+20\n",
    "30+30"
   ]
  },
  {
   "cell_type": "code",
   "execution_count": 51,
   "metadata": {},
   "outputs": [
    {
     "name": "stdout",
     "output_type": "stream",
     "text": [
      "20\n",
      "40\n",
      "60\n"
     ]
    }
   ],
   "source": [
    "print(10+10)\n",
    "print(20+20)\n",
    "print(30+30)"
   ]
  },
  {
   "cell_type": "code",
   "execution_count": 54,
   "metadata": {},
   "outputs": [
    {
     "name": "stdout",
     "output_type": "stream",
     "text": [
      "Hello, R Lerner\n",
      "Hello, S Else\n"
     ]
    }
   ],
   "source": [
    "# helper methods need to get \"self\", too, except in rare circumstances\n",
    "\n",
    "class Person:\n",
    "    def __init__(self, first_name, last_name):\n",
    "        self.first_name = first_name\n",
    "        self.last_name = last_name\n",
    "    def greet(self):\n",
    "        return f'Hello, {self.fullname()}'\n",
    "    def fullname(self):\n",
    "        return f'{self.first_letter(self.first_name)} {self.last_name}'\n",
    "    def first_letter(self, s):\n",
    "        return s[0]\n",
    "\n",
    "p1 = Person('Reuven', 'Lerner')\n",
    "p2 = Person('Someone', 'Else')\n",
    "\n",
    "print(p1.greet())\n",
    "print(p2.greet())"
   ]
  },
  {
   "cell_type": "markdown",
   "metadata": {},
   "source": [
    "# Exercise: Ice cream scoop\n",
    "\n",
    "1. Define a class, `Scoop`, which will take a single argument, a string containing a flavor of ice cream.\n",
    "2. That should define a `flavor` attribute on the `Scoop` object.\n",
    "3. Define three instances of `Scoop`, each with a different value for `flavor`.\n",
    "4. Create a Python list of those three scoops, iterate over them, and print their flavors."
   ]
  },
  {
   "cell_type": "code",
   "execution_count": 57,
   "metadata": {},
   "outputs": [
    {
     "name": "stdout",
     "output_type": "stream",
     "text": [
      "chocolate\n",
      "vanilla\n",
      "coffee\n"
     ]
    }
   ],
   "source": [
    "class Scoop:\n",
    "    def __init__(self, flavor):\n",
    "\n",
    "        # flavor is a parameter (a local variable), which will go away after the function/method exits\n",
    "        # self.flavor is an attribute on the instance -- so long as the instance exists, so does the attribute\n",
    "        self.flavor = flavor\n",
    "\n",
    "s1 = Scoop('chocolate')\n",
    "s2 = Scoop('vanilla')\n",
    "s3 = Scoop('coffee')\n",
    "\n",
    "for one_scoop in [s1, s2, s3]:\n",
    "    print(one_scoop.flavor)"
   ]
  },
  {
   "cell_type": "markdown",
   "metadata": {},
   "source": [
    "Link to the above code in the Python tutor:\n",
    "\n",
    "https://pythontutor.com/render.html#code=class%20Scoop%3A%0A%20%20%20%20def%20__init__%28self,%20flavor%29%3A%0A%20%20%20%20%20%20%20%20self.flavor%20%3D%20flavor%0A%0As1%20%3D%20Scoop%28'chocolate'%29%0As2%20%3D%20Scoop%28'vanilla'%29%0As3%20%3D%20Scoop%28'coffee'%29%0A%0Afor%20one_scoop%20in%20%5Bs1,%20s2,%20s3%5D%3A%0A%20%20%20%20print%28one_scoop.flavor%29&cumulative=false&curInstr=20&heapPrimitives=nevernest&mode=display&origin=opt-frontend.js&py=311&rawInputLstJSON=%5B%5D&textReferences=false"
   ]
  },
  {
   "cell_type": "code",
   "execution_count": 58,
   "metadata": {},
   "outputs": [
    {
     "name": "stdout",
     "output_type": "stream",
     "text": [
      "choco\n",
      "vanilla\n",
      "stawberry\n"
     ]
    }
   ],
   "source": [
    "# JF\n",
    "\n",
    "class Scoop:\n",
    "    def __init__(self, flavor):\n",
    "        self.flavor = flavor\n",
    "    \n",
    "icecream = ['choco','vanilla','stawberry'] \n",
    "for x in  icecream:\n",
    "    s = Scoop(x)\n",
    "    print(s.flavor)\n"
   ]
  },
  {
   "cell_type": "markdown",
   "metadata": {},
   "source": [
    "# Next up\n",
    "\n",
    "1. More classes\n",
    "2. More complex attributes\n",
    "3. More complex methods"
   ]
  },
  {
   "cell_type": "markdown",
   "metadata": {},
   "source": [
    "# Composition\n",
    "\n",
    "When we create a class, we're really creating a wrapper around one or more other data structures. For example, our `Scoop` class creates instances of `Scoop`, but each instance is a wrapper around a string (the flavor).  Each instance of `Person` is a wrapper around two strings, `first_name` and `last_name`.\n",
    "\n",
    "Every time we create a class, we're really \"just\" creating a wrapper around one or more data structures. You can use *any* data structures you want inside of your class, and assign any types you want to your instance's attributes. This shows the power of a higher level of abstraction; instead of thinking of strings, we're thinking of people and ice cream scoops. \n",
    "\n",
    "When we program with objects, we're creating higher and higher levels of abstraction. At the end of the day, you'll be writing classes that work with other classes, which work with other classes, which eventually use Python's core data structures.\n",
    "\n",
    "This is known as \"composition,\" where one object contains another. This is the most common way for objects to interact in the object-oriented world."
   ]
  },
  {
   "cell_type": "markdown",
   "metadata": {},
   "source": [
    "# Exercise: Bowl of ice cream\n",
    "\n",
    "1. Create a class, `Bowl`. Every instance of `Bowl` will have an attribute, `scoops`, a list. The list will start empty, but we can add instances of `Scoop` to it.\n",
    "2. Define a method, `add_scoops`, which takes one or more arguments, all of which should be instances of `Scoop`. Each of these instances should then be added to the list, on the `scoops` attribute.\n",
    "3. Define a `Bowl`, invoke `add_scoops` with two `Scoop` objects. Then invoke it with one `Scoop` object. How many scoops are on the list/in the bowl now?"
   ]
  },
  {
   "cell_type": "code",
   "execution_count": 59,
   "metadata": {},
   "outputs": [
    {
     "data": {
      "text/plain": [
       "[]"
      ]
     },
     "execution_count": 59,
     "metadata": {},
     "output_type": "execute_result"
    }
   ],
   "source": [
    "class Bowl:\n",
    "    def __init__(self):\n",
    "        self.scoops = []   # initialize our \"scoops\" attribute to be an empty list\n",
    "\n",
    "b = Bowl()\n",
    "b.scoops"
   ]
  },
  {
   "cell_type": "code",
   "execution_count": 60,
   "metadata": {},
   "outputs": [],
   "source": [
    "# could I then just append to that list?\n",
    "# Yes!\n",
    "\n",
    "b.scoops.append(s1)\n",
    "b.scoops.append(s2)\n",
    "b.scoops.append(s3)"
   ]
  },
  {
   "cell_type": "code",
   "execution_count": 61,
   "metadata": {},
   "outputs": [
    {
     "data": {
      "text/plain": [
       "[<__main__.Scoop at 0x10e1b42f0>,\n",
       " <__main__.Scoop at 0x10dc0a710>,\n",
       " <__main__.Scoop at 0x10dc0b110>]"
      ]
     },
     "execution_count": 61,
     "metadata": {},
     "output_type": "execute_result"
    }
   ],
   "source": [
    "b.scoops"
   ]
  },
  {
   "cell_type": "code",
   "execution_count": 62,
   "metadata": {},
   "outputs": [
    {
     "name": "stdout",
     "output_type": "stream",
     "text": [
      "chocolate\n",
      "vanilla\n",
      "coffee\n"
     ]
    }
   ],
   "source": [
    "# Given this, I can even say:\n",
    "\n",
    "for one_scoop in b.scoops:\n",
    "    print(one_scoop.flavor)"
   ]
  },
  {
   "cell_type": "code",
   "execution_count": 65,
   "metadata": {},
   "outputs": [
    {
     "name": "stdout",
     "output_type": "stream",
     "text": [
      "3\n"
     ]
    }
   ],
   "source": [
    "# let's do this again, but with an add_scoops method\n",
    "\n",
    "class Bowl:\n",
    "    def __init__(self):\n",
    "        self.scoops = []   # initialize our \"scoops\" attribute to be an empty list\n",
    "    def add_scoops(self, *args):   # all positional arguments (other than self) will be put into a tuple called \"args\"\n",
    "        for one_scoop in args:     # go through each scoop object in args\n",
    "            self.scoops.append(one_scoop)  # append it to self.scoops\n",
    "\n",
    "s1 = Scoop('chocolate')\n",
    "s2 = Scoop('vanilla')\n",
    "s3 = Scoop('coffee')\n",
    "\n",
    "b = Bowl()\n",
    "b.add_scoops(s1, s2)\n",
    "b.add_scoops(s3)\n",
    "\n",
    "print(len(b.scoops))  # how many scoops are there in b?"
   ]
  },
  {
   "cell_type": "code",
   "execution_count": 66,
   "metadata": {},
   "outputs": [
    {
     "name": "stdout",
     "output_type": "stream",
     "text": [
      "chocolate\n",
      "vanilla\n",
      "coffee\n"
     ]
    }
   ],
   "source": [
    "for one_scoop in b.scoops:\n",
    "    print(one_scoop.flavor)"
   ]
  },
  {
   "cell_type": "markdown",
   "metadata": {},
   "source": [
    "`*PosArg` is less idiomatic Python because it's camel case, and we rarely do that for variables. Most variables in Python should be `snake_case`, meaning all lowercase letters, with `_` between words."
   ]
  },
  {
   "cell_type": "markdown",
   "metadata": {},
   "source": [
    "# What we have, so far\n",
    "\n",
    "- We have a `Scoop` class. Each instance of `Scoop` represents one scoop of ice cream. If my factory makes 200 scoops of ice cream a day, we'll have 200 instances of `Scoop`, each with a different flavor.\n",
    "- We have a `Bowl` class. Each instance of `Bowl` can contain zero or more instances of `Scoop`.\n",
    "\n",
    "Notice:\n",
    "- The `Scoop` object has one attribute, `flavor` (a string describing the flavor)\n",
    "- The `Bowl` attribute has one attribute, `scoops` (a list containing `Scoop` objects)"
   ]
  },
  {
   "cell_type": "markdown",
   "metadata": {},
   "source": [
    "# `return` or not?\n",
    "\n",
    "Generally speaking, all Python functions return a value:\n",
    "\n",
    "- If you explicitly say `return VALUE`, then `VALUE` is returned. Absolutely any value in Python can be returned from a method.\n",
    "- If you just say `return`, then that's the same as saying `return None`, a value which is a placeholder for other values\n",
    "- If you don't `return` from a function, then it's the same as saying `return None`.\n",
    "\n",
    "You want to `return` a value from most functions and methods. That'll allow the result to be used in assignment or printed. But there is one place in Python where we never `return`, because the return value will be ignored - and that is in `__init__`. The whole purpose of `__init__` is to assign attributes to the object, not to return a value. `__new__` doesn't check, read, or use any return value that `__init__` gives it. We just care about the assignments.\n",
    "\n",
    "Most methods should `return` a value. Maybe not setter methods, if you write them. (But you shouldn't!) "
   ]
  },
  {
   "cell_type": "markdown",
   "metadata": {},
   "source": [
    "# Exercise: Flavors\n",
    "\n",
    "As we've seen, each instance of `Bowl` has a `scoops` attribute, containing scoops. Each scoop has a `flavor` attribute with its flavor.\n",
    "\n",
    "I want you to write a `flavors` method for the `Bowl` class. Invoking `flavors` on a `Bowl` returns a list of strings -- the flavors of the scoops in the bowl. \n",
    "\n",
    "So if I were to say\n",
    "\n",
    "    b.flavors()\n",
    "\n",
    "that would return the list `['chocolate', 'vanilla', 'coffee']`.\n",
    "\n"
   ]
  },
  {
   "cell_type": "code",
   "execution_count": 70,
   "metadata": {},
   "outputs": [
    {
     "name": "stdout",
     "output_type": "stream",
     "text": [
      "['chocolate', 'vanilla', 'coffee']\n"
     ]
    }
   ],
   "source": [
    "class Scoop:\n",
    "    def __init__(self, flavor):\n",
    "        self.flavor = flavor\n",
    "\n",
    "# if you want it with mixins:\n",
    "# class Scoop:\n",
    "#     def __init__(self, flavor, *mixins):\n",
    "#         self.flavor = flavor\n",
    "#         self.mixins = []\n",
    "\n",
    "class Bowl:\n",
    "    def __init__(self):\n",
    "        self.scoops = []   # initialize our \"scoops\" attribute to be an empty list\n",
    "    def add_scoops(self, *args):   # all positional arguments (other than self) will be put into a tuple called \"args\"\n",
    "        for one_scoop in args:     # go through each scoop object in args\n",
    "            self.scoops.append(one_scoop)  # append it to self.scoops\n",
    "    def flavors(self):\n",
    "        # simpler version, creating a list and then appending to it, one by one\n",
    "        # output = []\n",
    "\n",
    "        # for one_scoop in self.scoops:\n",
    "        #     output.append(one_scoop.flavor)   # grab the flavor (string) from the current scoop, and add to output\n",
    "\n",
    "        # return output\n",
    "\n",
    "        # list comprehension:\n",
    "        return [one_scoop.flavor\n",
    "                for one_scoop in self.scoops]\n",
    "\n",
    "\n",
    "s1 = Scoop('chocolate')\n",
    "s2 = Scoop('vanilla')\n",
    "s3 = Scoop('coffee')\n",
    "\n",
    "b = Bowl()\n",
    "b.add_scoops(s1, s2)\n",
    "b.add_scoops(s3)\n",
    "\n",
    "print(b.flavors())"
   ]
  },
  {
   "cell_type": "code",
   "execution_count": 71,
   "metadata": {},
   "outputs": [
    {
     "data": {
      "text/plain": [
       "'chocolate'"
      ]
     },
     "execution_count": 71,
     "metadata": {},
     "output_type": "execute_result"
    }
   ],
   "source": [
    "s1.flavor"
   ]
  },
  {
   "cell_type": "code",
   "execution_count": 72,
   "metadata": {},
   "outputs": [
    {
     "data": {
      "text/plain": [
       "'vanilla'"
      ]
     },
     "execution_count": 72,
     "metadata": {},
     "output_type": "execute_result"
    }
   ],
   "source": [
    "s2.flavor"
   ]
  },
  {
   "cell_type": "code",
   "execution_count": 73,
   "metadata": {},
   "outputs": [
    {
     "data": {
      "text/plain": [
       "'coffee'"
      ]
     },
     "execution_count": 73,
     "metadata": {},
     "output_type": "execute_result"
    }
   ],
   "source": [
    "s3.flavor"
   ]
  },
  {
   "cell_type": "markdown",
   "metadata": {},
   "source": [
    "# What relationship do we have?\n",
    "\n",
    "- The `Scoop` class is defined.\n",
    "- The `Bowl` class is defined. These are independent of each other.\n",
    "- An instance of `Bowl` can contain one or more instances of `Scoop` in its `scoops` attribute.\n",
    "- The elements of the `scoops` attribute will then contains scoops."
   ]
  },
  {
   "cell_type": "markdown",
   "metadata": {},
   "source": [
    "# Next up\n",
    "\n",
    "More with methods, including special parameters"
   ]
  },
  {
   "cell_type": "markdown",
   "metadata": {},
   "source": [
    "# How do we work with objects?\n",
    "\n",
    "In a traditional (non-object) programming language, we would solve a problem by \n",
    "\n",
    "- Using combinations of existing data structures\n",
    "- Writing functions that use these data structures\n",
    "\n",
    "When we work with objects, we always think about what classes we want to create -- what data structures allow us to think at a higher level, and thus approach the problem without getting into the low-level details. This means:\n",
    "\n",
    "- Thinking about how we want to structure the data\n",
    "- Thinking about what methods will be useful for us to modify, update, and query our data structure"
   ]
  },
  {
   "cell_type": "code",
   "execution_count": null,
   "metadata": {},
   "outputs": [],
   "source": []
  },
  {
   "cell_type": "code",
   "execution_count": null,
   "metadata": {},
   "outputs": [],
   "source": []
  }
 ],
 "metadata": {
  "kernelspec": {
   "display_name": "Python 3 (ipykernel)",
   "language": "python",
   "name": "python3"
  },
  "language_info": {
   "codemirror_mode": {
    "name": "ipython",
    "version": 3
   },
   "file_extension": ".py",
   "mimetype": "text/x-python",
   "name": "python",
   "nbconvert_exporter": "python",
   "pygments_lexer": "ipython3",
   "version": "3.13.0"
  }
 },
 "nbformat": 4,
 "nbformat_minor": 4
}
