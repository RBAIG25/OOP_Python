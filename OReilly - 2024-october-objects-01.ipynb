{
 "cells": [
  {
   "cell_type": "markdown",
   "metadata": {},
   "source": [
    "# Welcome!\n",
    "\n",
    "1. What are objects?\n",
    "2. In Python, everything is an object\n",
    "3. Creating our own classes\n",
    "4. What happens when we create an object? (Constructor and initializer)\n",
    "5. Attributes\n",
    "6. More complex objects\n",
    "7. Methods\n",
    "8. Special parameters and our methods"
   ]
  },
  {
   "cell_type": "markdown",
   "metadata": {},
   "source": [
    "# What are objects?  (Why do we care about this whole object-oriented thing?)\n",
    "\n",
    "When people started to program, they had data and functions. \n",
    "\n",
    "- Data is nouns\n",
    "- Functions are verbs\n",
    "\n",
    "I can still make a mistake, and call a function on a data structure that isn't appropriate for it. This leads to confusion and frustration.\n",
    "\n",
    "Back in the 1970s-1980s, computer scientists suggested that we approach things differently, combining into a single package the nouns and the verbs.\n",
    "\n",
    "The whole point of object-oriented programming is to make it easier to write, debug, and maintain our software.  By thinking of our software as a collection of nouns, each of which can perform certain tasks, get inputs from the outside world and send outputs to other objects, we can think at a higher level of abstraction, and thus write better software.\n",
    "\n",
    "The first object-oriented programming language was Smalltalk. Python isn't a direct descendant of Smalltalk, but we see some aspects of it in Python, including the idea that everything is an object.\n",
    "\n",
    "What do we get out of OO programming?\n",
    "\n",
    "- Consistency. Our objects and the system's objects that come with Python all work in the same way.  If you learn a new library/module, it will also work in the same way.\n",
    "- Reuse. We can reuse code that we wrote before, or that other people (even people we've never met) have written, and have made available to us.\n",
    "- Abstraction. We don't need to think/worry about the details of the implementation in objects we're not currently modifying. We can think of them as a black box. Moreover, we don't have to think about lists, strings, tuples, and dicts -- we can think about high-level, real-world objects such as cars, people, desks, and companies.\n",
    "\n",
    "Even though everything in Python is an object, and knowing about Python's objects is super helpful, you don't need to employ object-oriented programming when using Python."
   ]
  },
  {
   "cell_type": "code",
   "execution_count": 1,
   "metadata": {},
   "outputs": [
    {
     "data": {
      "text/plain": [
       "4"
      ]
     },
     "execution_count": 1,
     "metadata": {},
     "output_type": "execute_result"
    }
   ],
   "source": [
    "s = 'abcd'\n",
    "\n",
    "len(s)  # here, we're calling the len function on the string s"
   ]
  },
  {
   "cell_type": "code",
   "execution_count": 2,
   "metadata": {},
   "outputs": [
    {
     "ename": "TypeError",
     "evalue": "object of type 'int' has no len()",
     "output_type": "error",
     "traceback": [
      "\u001b[0;31m---------------------------------------------------------------------------\u001b[0m",
      "\u001b[0;31mTypeError\u001b[0m                                 Traceback (most recent call last)",
      "Cell \u001b[0;32mIn[2], line 3\u001b[0m\n\u001b[1;32m      1\u001b[0m x \u001b[38;5;241m=\u001b[39m \u001b[38;5;241m100\u001b[39m\n\u001b[0;32m----> 3\u001b[0m \u001b[38;5;28;43mlen\u001b[39;49m\u001b[43m(\u001b[49m\u001b[43mx\u001b[49m\u001b[43m)\u001b[49m\n",
      "\u001b[0;31mTypeError\u001b[0m: object of type 'int' has no len()"
     ]
    }
   ],
   "source": [
    "x = 100\n",
    "\n",
    "len(x)"
   ]
  },
  {
   "cell_type": "markdown",
   "metadata": {},
   "source": [
    "# In Python, everything is an object\n",
    "\n",
    "What does this mean?  Everything in Python has three characteristics:\n",
    "\n",
    "- An ID number, which we can get with the `id` builtin function\n",
    "- A class, or a type, which we can get with the `type` builtin function\n",
    "- Attributes, its own dictionary of names and values that allow it to store data outside of variables\n"
   ]
  },
  {
   "cell_type": "code",
   "execution_count": 3,
   "metadata": {},
   "outputs": [
    {
     "data": {
      "text/plain": [
       "4460106896"
      ]
     },
     "execution_count": 3,
     "metadata": {},
     "output_type": "execute_result"
    }
   ],
   "source": [
    "x = 100\n",
    "\n",
    "# is 100, which x refers to, an object\n",
    "id(x)   # what unique number does 100 have in Python's memory?\n",
    "\n",
    "\n",
    "# the id number is actually the address of the object in memory"
   ]
  },
  {
   "cell_type": "code",
   "execution_count": 5,
   "metadata": {},
   "outputs": [
    {
     "data": {
      "text/plain": [
       "int"
      ]
     },
     "execution_count": 5,
     "metadata": {},
     "output_type": "execute_result"
    }
   ],
   "source": [
    "# everything has a class, or a type\n",
    "# this class/type indicates what functionality the object has\n",
    "\n",
    "# all strings are of type str\n",
    "# all integers are of type int\n",
    "# all lists are of type list\n",
    "\n",
    "# we know that all objects of type X are going to behave in a certain way.\n",
    "type(100)"
   ]
  },
  {
   "cell_type": "code",
   "execution_count": 6,
   "metadata": {},
   "outputs": [
    {
     "data": {
      "text/plain": [
       "str"
      ]
     },
     "execution_count": 6,
     "metadata": {},
     "output_type": "execute_result"
    }
   ],
   "source": [
    "type('abcd')"
   ]
  },
  {
   "cell_type": "code",
   "execution_count": 7,
   "metadata": {},
   "outputs": [
    {
     "data": {
      "text/plain": [
       "list"
      ]
     },
     "execution_count": 7,
     "metadata": {},
     "output_type": "execute_result"
    }
   ],
   "source": [
    "type([10, 20, 30])"
   ]
  },
  {
   "cell_type": "code",
   "execution_count": 8,
   "metadata": {},
   "outputs": [
    {
     "data": {
      "text/plain": [
       "type"
      ]
     },
     "execution_count": 8,
     "metadata": {},
     "output_type": "execute_result"
    }
   ],
   "source": [
    "# when I asked Python what the type of 100 was, it returned int -- not the string \"int\", telling me the type, but\n",
    "# rather the actual class int that is used to create new integers. Because int is an object, it has a type, as well!\n",
    "\n",
    "type(int)  # what type does the integer class have?"
   ]
  },
  {
   "cell_type": "code",
   "execution_count": 9,
   "metadata": {},
   "outputs": [
    {
     "data": {
      "text/plain": [
       "type"
      ]
     },
     "execution_count": 9,
     "metadata": {},
     "output_type": "execute_result"
    }
   ],
   "source": [
    "type(str)  # what type does the str class have?"
   ]
  },
  {
   "cell_type": "code",
   "execution_count": 10,
   "metadata": {},
   "outputs": [
    {
     "data": {
      "text/plain": [
       "type"
      ]
     },
     "execution_count": 10,
     "metadata": {},
     "output_type": "execute_result"
    }
   ],
   "source": [
    "type(list)  # what does the list class have?"
   ]
  },
  {
   "cell_type": "markdown",
   "metadata": {},
   "source": [
    "# Everything is an object\n",
    "\n",
    "- Strings are objects, of type `str`\n",
    "- `str` is an object, of type `type`\n",
    "- Every class, every factory for creating objects, is of type `type`\n",
    "- In other words, `type` is the factory that creates factories\n",
    "\n",
    "When I create a new object in Python, it has to have a type. That type is determined by what factory was used to create it. If I have a string, it was created by `str`, etc.\n",
    "\n",
    "We can sometimes call classes or types \"factory objects,\" because they are objects, but their job is to create other objects.\n",
    "\n",
    "The type of an object determines its behavor:\n",
    "- Strings behave a certain way\n",
    "- Integers behave a certain way\n",
    "- Lists behave a certain way"
   ]
  },
  {
   "cell_type": "code",
   "execution_count": 11,
   "metadata": {},
   "outputs": [
    {
     "data": {
      "text/plain": [
       "type"
      ]
     },
     "execution_count": 11,
     "metadata": {},
     "output_type": "execute_result"
    }
   ],
   "source": [
    "type(type)   # what, then ,is the type of type -- what is the type of the factory of factories?"
   ]
  },
  {
   "cell_type": "code",
   "execution_count": 12,
   "metadata": {},
   "outputs": [],
   "source": [
    "# the factory that creates factories created itself -- type(type) is always type."
   ]
  },
  {
   "cell_type": "code",
   "execution_count": 13,
   "metadata": {},
   "outputs": [
    {
     "data": {
      "text/plain": [
       "['__abs__',\n",
       " '__add__',\n",
       " '__and__',\n",
       " '__bool__',\n",
       " '__ceil__',\n",
       " '__class__',\n",
       " '__delattr__',\n",
       " '__dir__',\n",
       " '__divmod__',\n",
       " '__doc__',\n",
       " '__eq__',\n",
       " '__float__',\n",
       " '__floor__',\n",
       " '__floordiv__',\n",
       " '__format__',\n",
       " '__ge__',\n",
       " '__getattribute__',\n",
       " '__getnewargs__',\n",
       " '__getstate__',\n",
       " '__gt__',\n",
       " '__hash__',\n",
       " '__index__',\n",
       " '__init__',\n",
       " '__init_subclass__',\n",
       " '__int__',\n",
       " '__invert__',\n",
       " '__le__',\n",
       " '__lshift__',\n",
       " '__lt__',\n",
       " '__mod__',\n",
       " '__mul__',\n",
       " '__ne__',\n",
       " '__neg__',\n",
       " '__new__',\n",
       " '__or__',\n",
       " '__pos__',\n",
       " '__pow__',\n",
       " '__radd__',\n",
       " '__rand__',\n",
       " '__rdivmod__',\n",
       " '__reduce__',\n",
       " '__reduce_ex__',\n",
       " '__repr__',\n",
       " '__rfloordiv__',\n",
       " '__rlshift__',\n",
       " '__rmod__',\n",
       " '__rmul__',\n",
       " '__ror__',\n",
       " '__round__',\n",
       " '__rpow__',\n",
       " '__rrshift__',\n",
       " '__rshift__',\n",
       " '__rsub__',\n",
       " '__rtruediv__',\n",
       " '__rxor__',\n",
       " '__setattr__',\n",
       " '__sizeof__',\n",
       " '__str__',\n",
       " '__sub__',\n",
       " '__subclasshook__',\n",
       " '__truediv__',\n",
       " '__trunc__',\n",
       " '__xor__',\n",
       " 'as_integer_ratio',\n",
       " 'bit_count',\n",
       " 'bit_length',\n",
       " 'conjugate',\n",
       " 'denominator',\n",
       " 'from_bytes',\n",
       " 'imag',\n",
       " 'is_integer',\n",
       " 'numerator',\n",
       " 'real',\n",
       " 'to_bytes']"
      ]
     },
     "execution_count": 13,
     "metadata": {},
     "output_type": "execute_result"
    }
   ],
   "source": [
    "# everything has attributes\n",
    "\n",
    "x = 100\n",
    "dir(x)   # this will list (in a list of strings) the attributes available on x"
   ]
  },
  {
   "cell_type": "markdown",
   "metadata": {},
   "source": [
    "# What are attributes?\n",
    "\n",
    "Attributes are a storage mechanism in Python. Every object has one or more attributes, and can access them with a `.`.  That is, if I say `a.b`, I'm asking for the value of the attribute `b` on the object `a`.\n",
    "\n",
    "You've probably seen this in methods. And yes, methods are also attributes. "
   ]
  },
  {
   "cell_type": "code",
   "execution_count": 14,
   "metadata": {},
   "outputs": [
    {
     "data": {
      "text/plain": [
       "'ABCD'"
      ]
     },
     "execution_count": 14,
     "metadata": {},
     "output_type": "execute_result"
    }
   ],
   "source": [
    "s = 'abcd'  # I'm defining a string object\n",
    "\n",
    "s.upper()   # I'm retrieving the attribute s.upper, which happens to be a function/method, and then I run it with ()"
   ]
  },
  {
   "cell_type": "markdown",
   "metadata": {},
   "source": [
    "Who/what determines what attributes are defined on an object? The class.\n",
    "\n",
    "When the object is created, its class assigns a bunch of attributes. Strings get one set of attributes, integers get another, lists get yet another, etc.\n",
    "\n",
    "You can "
   ]
  },
  {
   "cell_type": "code",
   "execution_count": null,
   "metadata": {},
   "outputs": [],
   "source": []
  }
 ],
 "metadata": {
  "kernelspec": {
   "display_name": "Python 3 (ipykernel)",
   "language": "python",
   "name": "python3"
  },
  "language_info": {
   "codemirror_mode": {
    "name": "ipython",
    "version": 3
   },
   "file_extension": ".py",
   "mimetype": "text/x-python",
   "name": "python",
   "nbconvert_exporter": "python",
   "pygments_lexer": "ipython3",
   "version": "3.13.0"
  }
 },
 "nbformat": 4,
 "nbformat_minor": 4
}
