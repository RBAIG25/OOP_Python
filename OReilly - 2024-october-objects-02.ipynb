{
 "cells": [
  {
   "cell_type": "markdown",
   "metadata": {},
   "source": [
    "# Agenda, day 2\n",
    "\n",
    "1. Recap -- the story so far\n",
    "2. Q&A\n",
    "3. Magic methods\n",
    "4. Class attributes\n",
    "5. ICPO -- the attribute lookup path\n",
    "6. Inheritance -- the three paradigms of method inheritance\n",
    "7. Magic methods, ICPO, and inheritance, with the `object` class\n",
    "8. Next steps"
   ]
  },
  {
   "cell_type": "markdown",
   "metadata": {},
   "source": [
    "# Recap\n",
    "\n",
    "Object-oriented programming is all about repackaging our code into units known as \"classes.\" Each class describes a new data structure that we define, along with the functionality that we'll want to implement on that data structure.\n",
    "\n",
    "### Some terms\n",
    "\n",
    "- A \"class,\" or a \"type,\" is the core idea in object-oriented programming. Each class is a factory for creating a different data type. In conversation, the words `class` and `type` are interchangeable. But in actual Python coding, we use the word `class` to define a new class, and we use the word `type` to find out what class something has. A class is an object in Python, an instance of the class known as `type`. (And yes, this is confusing...) When we want to solve a problem with objects, we map out what data structures we'll want, and we define those in our class definition.\n",
    "- An \"object\" is simple a value in the Python world. All values in Python are objects. Every object has a class that created it, its factory, or its type. We can find out an object's type by invoking `type(THE_THING)` on it. The value we get back will be a class object. Everything in Python is an object -- strings, ints, lists, dicts, etc. The only things that are *not* objects are keywords in the language, such as `if` and `class` and `def` and `for`.\n",
    "- Every object in Python has three things:\n",
    "    - an ID number, which we can get with `id`, that identifies it uniquely\n",
    "    - a type (as we've said)\n",
    "    - attributes, a private set of name-value pairs that we can set and retrieve via a `.`.  You can get the attributes on an object via the `dir` function, which returns a list of strings.\n",
    "- An \"instance\" is another word we use for \"object,\" and it basically means: The thing that a class created. So `'abcd'` is a string object, which means that it is an instance of `str`, because its type is `str`.\n",
    "- A \"method\" is a function that we define inside of a class. It's just like a regular function, and can do the things that a regular function does, with one exception -- the first parameter to a method is always called `self`, and it always contains the instance on which we're running. Every method must have `self` as the first parameter; if you don't put `self` there, then whatever parameter is first will be assigned the instance. Inside of the method, we can set and retrieve attributes on the instance via `self`. So we can set `self.x = 10`, or we can retrieve `self.x`. But we must name `self` in order to set and retrieve those attributes.\n",
    "- `self` is not a reserved word, but it might as well be, because the overwhelming majority of people in the Python world all use `self` as the name for that parameter. IDEs like VSCode and PyCharm colorize it to show that it's special. `self` always refers to the current instance.\n",
    "- Every instance of a class will typically have one or more attributes that describe its particular characteristics. An instance of `Car` might have attributes like `color` and `engine_size` and `odometer` on it. The names of these attributes will exist across all instances of `Car`, but the particular values will be different. In other programming languages, they call these \"fields\" or \"instance variables,\" but in Python, we just use attributes to store and retrieve these values.\n",
    "- In other languages, we use methods known as \"getters\" to retrieve attribute values, and other methods known as \"setters\" to assign to them. In Python, we rarely do that; rather, we just retrieve the attribute directly and set it directly.\n",
    "- We create a new object by invoking the class with `()`, much like a function, and even pass arguments to it. This invokes the special, behind-the-scenes method known as `__new__`, which actually creates the new object. Then, `__new__` invokes `__init__`, a method whose job is to create and assign to attributes on `self`, the instance (i.e., the new object). If we want instances of our class to have attributes, then we'll want to define them in `__init__`, even if it's just giving them an initial value before we really set values on them. `__init__` doesn't have to return anything (and any return value is ignored), because its whole purpose is to assign those values.\n",
    "\n",
    "Regarding classes being objects:\n",
    "- Every class in Python is an object.\n",
    "- We define a class with the `class` keyword\n",
    "- Keywords themselves are not objects. So a class is an object, but the keyword `class` is not."
   ]
  },
  {
   "cell_type": "markdown",
   "metadata": {},
   "source": [
    "# What's the deal with `__new__`?\n",
    "\n",
    "In many programming languages, we have a single method known as a \"constructor,\" which creates new objects. We describe what fields (instance variables) we want in those languages in the class definition; nothing needs to run -- all objects of that type automatically have those fields.\n",
    "\n",
    "Python works differently. We need to actually run `__init__` in order to assign those attributes. If it doesn't exist, or if it doesn't run, or if it's misspelled, then `__init__` will not be run automatically, and the fields (attributes) will not be defined.\n",
    "\n",
    "This model of dividing the responsibility of creation from initialization is from Smalltalk. The idea is that you'll almost never need to customize how an object is created. But you will almost always want to customize what attributes it contains. We leave `__new__` to the experts, and almost never want/need to write it ourselves.\n",
    "\n",
    "There isn't a real destructor method in Python, but there is one that runs when the garbage collector (the memory-management system) is about to get rid of our object. That method is known as `__del__`, and it almost certainly isn't something that you'll want to write."
   ]
  },
  {
   "cell_type": "code",
   "execution_count": 4,
   "metadata": {},
   "outputs": [
    {
     "data": {
      "text/plain": [
       "200"
      ]
     },
     "execution_count": 4,
     "metadata": {},
     "output_type": "execute_result"
    }
   ],
   "source": [
    "class Book:\n",
    "    def __init__(self, title, author, price):\n",
    "        self.title = title     # we're taking the arguments passed to us, and using them to assign to attributes\n",
    "        self.author = author\n",
    "        self.price = price\n",
    "    def purchase(self, quantity):\n",
    "        return self.price * quantity\n",
    "\n",
    "# I can now create as many instances of Book as I want, each representing a different book\n",
    "b1 = Book('Python Workout', 'Reuven Lerner', 30)\n",
    "b2 = Book('Pandas Workout', 'Reuven Lerner', 35)\n",
    "b3 = Book('Python is amazing', 'Some Pythonista', 50)\n",
    "\n",
    "b3.purchase(4)"
   ]
  },
  {
   "cell_type": "code",
   "execution_count": 2,
   "metadata": {},
   "outputs": [
    {
     "data": {
      "text/plain": [
       "'Python Workout'"
      ]
     },
     "execution_count": 2,
     "metadata": {},
     "output_type": "execute_result"
    }
   ],
   "source": [
    "b1.title"
   ]
  },
  {
   "cell_type": "code",
   "execution_count": 3,
   "metadata": {
    "scrolled": true
   },
   "outputs": [
    {
     "data": {
      "text/plain": [
       "50"
      ]
     },
     "execution_count": 3,
     "metadata": {},
     "output_type": "execute_result"
    }
   ],
   "source": [
    "b3.price"
   ]
  },
  {
   "cell_type": "code",
   "execution_count": 5,
   "metadata": {},
   "outputs": [],
   "source": [
    "# SB\n",
    "\n",
    "# if b1 = Book('python','sb',20) creates an instance, and if i use b2 = b1, will it clone b1 to b2 instead of creating a new instance?\n",
    "\n",
    "b1 = Book('python','sb',20)\n",
    "b2 = b1\n",
    "\n",
    "# in the above code, b1 and b2 both refer to the same book object! There is a single instance that both refer to !"
   ]
  },
  {
   "cell_type": "code",
   "execution_count": 6,
   "metadata": {},
   "outputs": [
    {
     "data": {
      "text/plain": [
       "4592518720"
      ]
     },
     "execution_count": 6,
     "metadata": {},
     "output_type": "execute_result"
    }
   ],
   "source": [
    "id(b1)"
   ]
  },
  {
   "cell_type": "code",
   "execution_count": 7,
   "metadata": {},
   "outputs": [
    {
     "data": {
      "text/plain": [
       "4592518720"
      ]
     },
     "execution_count": 7,
     "metadata": {},
     "output_type": "execute_result"
    }
   ],
   "source": [
    "id(b2)"
   ]
  },
  {
   "cell_type": "markdown",
   "metadata": {},
   "source": [
    "# Type annotations\n",
    "\n",
    "Python is a \"dynamically typed\" language. This means that while values have types, variables do not. A value can be an int, str, list, dict, etc., but you can't say that a variable is associated with an int, str, list, dict."
   ]
  },
  {
   "cell_type": "code",
   "execution_count": 8,
   "metadata": {},
   "outputs": [
    {
     "data": {
      "text/plain": [
       "int"
      ]
     },
     "execution_count": 8,
     "metadata": {},
     "output_type": "execute_result"
    }
   ],
   "source": [
    "x = 100\n",
    "type(x)"
   ]
  },
  {
   "cell_type": "code",
   "execution_count": 9,
   "metadata": {},
   "outputs": [
    {
     "data": {
      "text/plain": [
       "str"
      ]
     },
     "execution_count": 9,
     "metadata": {},
     "output_type": "execute_result"
    }
   ],
   "source": [
    "x = 'abcd'\n",
    "type(x)"
   ]
  },
  {
   "cell_type": "markdown",
   "metadata": {},
   "source": [
    "People in the Python world all thought that this is a **great** thing! We love the elegance, simplicity, and flexibility of dynamic typing. It means that we can write a single function that handles many different types.\n",
    "\n",
    "People from the static typing world thought that this was crazy talk! They said, \"you'll have lots of bugs in your programs!\"  \n",
    "\n",
    "It turns out that both camps are right:\n",
    "\n",
    "- Dynamic typing is far more elegant and flexible\n",
    "- Static typing, where a variable is given a type, and can only contain values of a particular type, is more robust\n",
    "\n",
    "Type annotations (aka \"type hints\") let us tell Python what types we expect:\n",
    "\n"
   ]
  },
  {
   "cell_type": "code",
   "execution_count": 10,
   "metadata": {},
   "outputs": [],
   "source": [
    "def hello(name:str):\n",
    "    return f'Hello, {name}!'"
   ]
  },
  {
   "cell_type": "code",
   "execution_count": 11,
   "metadata": {},
   "outputs": [
    {
     "data": {
      "text/plain": [
       "'Hello, world!'"
      ]
     },
     "execution_count": 11,
     "metadata": {},
     "output_type": "execute_result"
    }
   ],
   "source": [
    "hello('world')"
   ]
  },
  {
   "cell_type": "code",
   "execution_count": 12,
   "metadata": {},
   "outputs": [
    {
     "data": {
      "text/plain": [
       "'Hello, 5!'"
      ]
     },
     "execution_count": 12,
     "metadata": {},
     "output_type": "execute_result"
    }
   ],
   "source": [
    "hello(5)"
   ]
  },
  {
   "cell_type": "markdown",
   "metadata": {},
   "source": [
    "Type annotations are **IGNORED** by the Python language, which remains dynamically typed. However, you can use addon packages like Mypy to check your code against the type hints, and make sure that you don't have problems.\n",
    "\n",
    "The larger the project, the more important it is for you to use type annotations.\n",
    "\n",
    "Can you use your own classes in type annotations? Absolutely yes!"
   ]
  },
  {
   "cell_type": "code",
   "execution_count": 13,
   "metadata": {},
   "outputs": [],
   "source": [
    "def calculate(b:Book, q:int):\n",
    "    return b.quantity(q)"
   ]
  },
  {
   "cell_type": "markdown",
   "metadata": {},
   "source": [
    "In other languages (like C), a variable is an alias to a location in memory. That's why it needs to know what kind of value you'll be storing, so it knows how much memory to allocate. But in Python, a variable isn't a location in memory -- that is only a value. "
   ]
  },
  {
   "cell_type": "code",
   "execution_count": 14,
   "metadata": {},
   "outputs": [
    {
     "name": "stdout",
     "output_type": "stream",
     "text": [
      "['chocolate', 'vanilla', 'coffee']\n"
     ]
    }
   ],
   "source": [
    "class Scoop:\n",
    "    def __init__(self, flavor):\n",
    "        self.flavor = flavor\n",
    "\n",
    "class Bowl:\n",
    "    def __init__(self):\n",
    "        self.scoops = []  \n",
    "    def add_scoops(self, *args): \n",
    "        for one_scoop in args:   \n",
    "            self.scoops.append(one_scoop)  \n",
    "    def flavors(self):\n",
    "        return [one_scoop.flavor\n",
    "                for one_scoop in self.scoops]\n",
    "\n",
    "\n",
    "s1 = Scoop('chocolate')\n",
    "s2 = Scoop('vanilla')\n",
    "s3 = Scoop('coffee')\n",
    "\n",
    "b = Bowl()\n",
    "b.add_scoops(s1, s2)\n",
    "b.add_scoops(s3)\n",
    "\n",
    "print(b.flavors())"
   ]
  },
  {
   "cell_type": "markdown",
   "metadata": {},
   "source": [
    "# Exercise: `has_flavor`\n",
    "\n",
    "Define a new method, `has_flavor`, on our `Bowl` class. It should take a single argument, a string describing an ice cream flavor. The method should return `True` if the named flavor is in one or more of the scoops in the bowl. If not, then it should return `False`.\n",
    "\n",
    "If I were to invoke `b.has_flavor('chocolate')` on the above bowl object, I would get `True` back. "
   ]
  },
  {
   "cell_type": "code",
   "execution_count": 16,
   "metadata": {},
   "outputs": [
    {
     "name": "stdout",
     "output_type": "stream",
     "text": [
      "['chocolate', 'vanilla', 'coffee']\n",
      "True\n",
      "False\n"
     ]
    }
   ],
   "source": [
    "class Scoop:\n",
    "    def __init__(self, flavor):\n",
    "        self.flavor = flavor\n",
    "\n",
    "class Bowl:\n",
    "    def __init__(self):\n",
    "        self.scoops = []  \n",
    "    def add_scoops(self, *args): \n",
    "        for one_scoop in args:   \n",
    "            self.scoops.append(one_scoop)  \n",
    "    def flavors(self):\n",
    "        return [one_scoop.flavor\n",
    "                for one_scoop in self.scoops]\n",
    "    def has_flavor(self, flavor):\n",
    "        return flavor in self.flavors()\n",
    "\n",
    "\n",
    "s1 = Scoop('chocolate')\n",
    "s2 = Scoop('vanilla')\n",
    "s3 = Scoop('coffee')\n",
    "\n",
    "b = Bowl()\n",
    "b.add_scoops(s1, s2)\n",
    "b.add_scoops(s3)\n",
    "\n",
    "print(b.flavors())\n",
    "print(b.has_flavor('chocolate'))\n",
    "print(b.has_flavor('persimmon')) "
   ]
  },
  {
   "cell_type": "code",
   "execution_count": 17,
   "metadata": {},
   "outputs": [
    {
     "name": "stdout",
     "output_type": "stream",
     "text": [
      "<__main__.Person object at 0x111b83230>\n"
     ]
    }
   ],
   "source": [
    "class Person:\n",
    "    def __init__(self, name):\n",
    "        self.name = name\n",
    "\n",
    "p = Person('Reuven')\n",
    "\n",
    "print(p)  # what will be printed?"
   ]
  },
  {
   "cell_type": "code",
   "execution_count": 18,
   "metadata": {},
   "outputs": [
    {
     "data": {
      "text/plain": [
       "'0x111b83230'"
      ]
     },
     "execution_count": 18,
     "metadata": {},
     "output_type": "execute_result"
    }
   ],
   "source": [
    "hex(id(p))"
   ]
  },
  {
   "cell_type": "markdown",
   "metadata": {},
   "source": [
    "# Printing our objects nicely\n",
    "\n",
    "We want to tell Python: When you turn our Person instance into a string, \n",
    "it should be printed in a special, distinct (and readable) way\n",
    "\n",
    "We can do this by defining the `__str__` method. This is the first of many \"magic methods\" that we will talk about. Magic methods are also known as \"dunder methods,\" and the idea is that Python looks for them on our object. If the method exists, then we get special functionality. If it doesn't, then the default happens -- or we get an error, depending on the method.\n",
    "\n",
    "We don't run these methods directly! (Even though we can.) We define the magic methods so that Python can call them at the appropriate times.\n",
    "\n",
    "It's a rare object that doesn't define `__str__`, because we so often just want to `print` an object and get something normal back.\n",
    "\n",
    "`__str__` can return whatever string it wants. \n",
    "\n",
    "Actually, there are *two* methods for getting something back as a string. `__str__` is the more famous one. But if you're a developer, or using a debugger, or using Jupyter, then you might sometimes we the result not of `__str__`, but of `__repr__`, another magic method which returns a string, and which is meant for programmers.\n",
    "\n",
    "If you define only `__repr__`, then it actually returns values *both* for `__str__` and for itself. So my suggestion is generally just to define `__repr__`, even though this slightly goes against the offical recommendations. If and when you want to distinguish between outputs for `__str__` and `__repr__`, you can just add `__str__`."
   ]
  },
  {
   "cell_type": "code",
   "execution_count": 20,
   "metadata": {},
   "outputs": [
    {
     "name": "stdout",
     "output_type": "stream",
     "text": [
      "Person named Reuven, id of 4592251104\n"
     ]
    }
   ],
   "source": [
    "class Person:\n",
    "    def __init__(self, name):\n",
    "        self.name = name\n",
    "    def __str__(self):\n",
    "        return f'Person named {self.name}, id of {id(self)}'\n",
    "\n",
    "p = Person('Reuven')\n",
    "\n",
    "print(p) "
   ]
  },
  {
   "cell_type": "code",
   "execution_count": 21,
   "metadata": {},
   "outputs": [
    {
     "name": "stdout",
     "output_type": "stream",
     "text": [
      "Person named Reuven, id of 4592246064\n"
     ]
    }
   ],
   "source": [
    "class Person:\n",
    "    def __init__(self, name):\n",
    "        self.name = name\n",
    "    def __repr__(self):\n",
    "        return f'Person named {self.name}, id of {id(self)}'\n",
    "\n",
    "p = Person('Reuven')\n",
    "\n",
    "print(p) "
   ]
  },
  {
   "cell_type": "code",
   "execution_count": 22,
   "metadata": {},
   "outputs": [
    {
     "data": {
      "text/plain": [
       "Person named Reuven, id of 4592246064"
      ]
     },
     "execution_count": 22,
     "metadata": {},
     "output_type": "execute_result"
    }
   ],
   "source": [
    "p"
   ]
  },
  {
   "cell_type": "markdown",
   "metadata": {},
   "source": [
    "# Exercise: Make scoops printable!\n",
    "\n",
    "Add a `__repr__` method to the `Scoop` class, such that printing an instance of `Scoop` will show\n",
    "\n",
    "    Scoop of FLAVOR\n",
    "\n",
    "```python\n",
    "s1 = Scoop('chocolate')\n",
    "print(s1)\n",
    "```\n",
    "\n",
    "    Scoop of chocolate"
   ]
  },
  {
   "cell_type": "markdown",
   "metadata": {},
   "source": [
    "# `__str__` vs. `__repr__`\n",
    "\n",
    "Both of these magic methods, if defined in your class, should return strings. And they have a common goal, namely to give Python a string version of your object.\n",
    "\n",
    "`__str__` is supposed to be used where end users (i.e., not programmers) will be viewing the results. And `__repr__` is supposed to be used where coders, working on the program, will be viewing the results.\n",
    "\n",
    "You could define both of them, and then you'll get different results in different places. But most people, most of the time, want the same thing in all cases. To get that, just define `__repr__`, and ignore `__str__`. That will cover you everywhere."
   ]
  },
  {
   "cell_type": "code",
   "execution_count": 24,
   "metadata": {},
   "outputs": [
    {
     "name": "stdout",
     "output_type": "stream",
     "text": [
      "['chocolate', 'vanilla', 'coffee']\n",
      "True\n",
      "False\n",
      "Scoop of chocolate\n",
      "Scoop of vanilla\n",
      "Scoop of coffee\n"
     ]
    }
   ],
   "source": [
    "class Scoop:\n",
    "    def __init__(self, flavor):\n",
    "        self.flavor = flavor\n",
    "    def __repr__(self):\n",
    "        return f'Scoop of {self.flavor}'\n",
    "\n",
    "class Bowl:\n",
    "    def __init__(self):\n",
    "        self.scoops = []  \n",
    "    def add_scoops(self, *args): \n",
    "        for one_scoop in args:   \n",
    "            self.scoops.append(one_scoop)  \n",
    "    def flavors(self):\n",
    "        return [one_scoop.flavor\n",
    "                for one_scoop in self.scoops]\n",
    "    def has_flavor(self, flavor):\n",
    "        return flavor in self.flavors()\n",
    "\n",
    "\n",
    "s1 = Scoop('chocolate')\n",
    "s2 = Scoop('vanilla')\n",
    "s3 = Scoop('coffee')\n",
    "\n",
    "b = Bowl()\n",
    "b.add_scoops(s1, s2)\n",
    "b.add_scoops(s3)\n",
    "\n",
    "print(b.flavors())\n",
    "print(b.has_flavor('chocolate'))\n",
    "print(b.has_flavor('persimmon')) \n",
    "\n",
    "print(s1)\n",
    "print(s2)\n",
    "print(s3)"
   ]
  },
  {
   "cell_type": "code",
   "execution_count": null,
   "metadata": {},
   "outputs": [],
   "source": [
    "# JK\n",
    "\n",
    "class Scoop:\n",
    "  def __init__(self, flavor):\n",
    "    self.flavor = flavor\n",
    "  def __repr__(self):\n",
    "    return f'One scoop of {self.flavor}'\n",
    "\n",
    "s1 = Scoop('Chocolate')\n",
    "\n",
    "print(s1)"
   ]
  },
  {
   "cell_type": "markdown",
   "metadata": {},
   "source": [
    "# Next up\n",
    "\n",
    "1. More magic methods\n",
    "2. Class attributes"
   ]
  },
  {
   "cell_type": "code",
   "execution_count": 26,
   "metadata": {},
   "outputs": [
    {
     "data": {
      "text/plain": [
       "\"<class '__main__.Scoop'>\""
      ]
     },
     "execution_count": 26,
     "metadata": {},
     "output_type": "execute_result"
    }
   ],
   "source": [
    "# best way to print the current class's name\n",
    "\n",
    "str(type(s1))"
   ]
  },
  {
   "cell_type": "code",
   "execution_count": 28,
   "metadata": {},
   "outputs": [
    {
     "data": {
      "text/plain": [
       "\"<class '__main__.Scoop'>\""
      ]
     },
     "execution_count": 28,
     "metadata": {},
     "output_type": "execute_result"
    }
   ],
   "source": [
    "str(s1.__class__)"
   ]
  },
  {
   "cell_type": "code",
   "execution_count": 29,
   "metadata": {},
   "outputs": [
    {
     "data": {
      "text/plain": [
       "'Scoop'"
      ]
     },
     "execution_count": 29,
     "metadata": {},
     "output_type": "execute_result"
    }
   ],
   "source": [
    "s1.__class__.__name__"
   ]
  },
  {
   "cell_type": "code",
   "execution_count": 30,
   "metadata": {},
   "outputs": [
    {
     "data": {
      "text/plain": [
       "'Scoop'"
      ]
     },
     "execution_count": 30,
     "metadata": {},
     "output_type": "execute_result"
    }
   ],
   "source": [
    "type(s1).__name__"
   ]
  },
  {
   "cell_type": "markdown",
   "metadata": {},
   "source": [
    "# Exercise: `__repr__` for `Bowl`\n",
    "\n",
    "When someone turns an instance of `Bowl` into a string, we should get a string back. That string should have one line per scoop (so yes, it includes newlines), numbered and printing itself.\n",
    "\n",
    "If I were to say\n",
    "\n",
    "```python\n",
    "print(b)\n",
    "```\n",
    "\n",
    "I should see\n",
    "\n",
    "```\n",
    "1. Scoop of chocolate\n",
    "2. Scoop of vanilla\n",
    "3. Scoop of coffee\n",
    "```"
   ]
  },
  {
   "cell_type": "code",
   "execution_count": 37,
   "metadata": {},
   "outputs": [
    {
     "name": "stdout",
     "output_type": "stream",
     "text": [
      "1: Scoop of chocolate\n",
      "2: Scoop of vanilla\n",
      "3: Scoop of coffee\n"
     ]
    }
   ],
   "source": [
    "class Scoop:\n",
    "    def __init__(self, flavor):\n",
    "        self.flavor = flavor\n",
    "    def __repr__(self):\n",
    "        return f'Scoop of {self.flavor}'\n",
    "\n",
    "class Bowl:\n",
    "    def __init__(self):\n",
    "        self.scoops = []  \n",
    "    def add_scoops(self, *args): \n",
    "        for one_scoop in args:   \n",
    "            self.scoops.append(one_scoop)  \n",
    "    def flavors(self):\n",
    "        return [one_scoop.flavor\n",
    "                for one_scoop in self.scoops]\n",
    "    def has_flavor(self, flavor):\n",
    "        return flavor in self.flavors()\n",
    "    def __repr__(self):\n",
    "        # OPTION 1: traditional loop\n",
    "\n",
    "        # output = ''\n",
    "\n",
    "        # for index, one_scoop in enumerate(self.scoops):\n",
    "        #     output += f'{index+1}: {one_scoop}\\n'\n",
    "\n",
    "        # return output\n",
    "\n",
    "        # option 2: list comprehension\n",
    "\n",
    "        return '\\n'.join([f'{index+1}: {one_scoop}'\n",
    "                         for index, one_scoop in enumerate(self.scoops)])\n",
    "\n",
    "\n",
    "s1 = Scoop('chocolate')\n",
    "s2 = Scoop('vanilla')\n",
    "s3 = Scoop('coffee')\n",
    "\n",
    "b = Bowl()\n",
    "b.add_scoops(s1, s2)\n",
    "b.add_scoops(s3)\n",
    "\n",
    "# print(b.flavors())\n",
    "# print(b.has_flavor('chocolate'))\n",
    "# print(b.has_flavor('persimmon')) \n",
    "\n",
    "print(b)"
   ]
  },
  {
   "cell_type": "markdown",
   "metadata": {},
   "source": [
    "# Magic methods\n",
    "\n",
    "There are about 100 magic methods in Python. They do all sorts of things behind the scenes:\n",
    "\n",
    "- When you invoke `len` on an object, its `__len__` magic method is invoked.\n",
    "- When you invoke `[]` on an object, its `__getitem__` or `__setitem__` will be invoked.\n",
    "- When you compare two items with `==`, the `__eq__` method is invoked\n",
    "\n",
    "Don't feel like you need to know all of the magic methods! \n",
    "\n",
    "A lot of new Python functionality is implemented using magic methods. "
   ]
  },
  {
   "cell_type": "markdown",
   "metadata": {},
   "source": [
    "# Class attributes\n",
    "\n",
    "Some things to remember:\n",
    "\n",
    "- Everything in Python is an object.\n",
    "- Every object has attributes.\n",
    "- We can assign any attribute we want, whenever we want, to any object (other than a handful of core objects).\n",
    "- Classes are objects, too. Which means that they have attributes, also.\n",
    "\n",
    "Keep all of this in mind as I work through the next example."
   ]
  },
  {
   "cell_type": "code",
   "execution_count": 38,
   "metadata": {},
   "outputs": [
    {
     "name": "stdout",
     "output_type": "stream",
     "text": [
      "Hello, name1!\n",
      "Hello, name2!\n"
     ]
    }
   ],
   "source": [
    "# I have a Person class, and two instances\n",
    "\n",
    "class Person:\n",
    "    def __init__(self, name):\n",
    "        self.name = name\n",
    "    def greet(self):\n",
    "        return f'Hello, {self.name}!'\n",
    "\n",
    "p1 = Person('name1')\n",
    "p2 = Person('name2')\n",
    "\n",
    "print(p1.greet())\n",
    "print(p2.greet())"
   ]
  },
  {
   "cell_type": "code",
   "execution_count": 40,
   "metadata": {},
   "outputs": [
    {
     "name": "stdout",
     "output_type": "stream",
     "text": [
      "Before, population=0\n",
      "After, population=2\n",
      "Hello, name1!\n",
      "Hello, name2!\n"
     ]
    }
   ],
   "source": [
    "# my boss comes into my office and tells me that we need to add some new functionlity.\n",
    "# specifically, we need to be keep track of how many people are being created in our simulation.\n",
    "# in other words: Every time we create a new Person object, we need to keep that in our count\n",
    "\n",
    "# option 1: A global variable!\n",
    "\n",
    "population = 0\n",
    "\n",
    "class Person:\n",
    "    def __init__(self, name):\n",
    "        global population   # now any reference to population won't create/use a local variable -- it's use the global, instead\n",
    "        self.name = name\n",
    "        population += 1    # add 1 to the global population\n",
    "    def greet(self):\n",
    "        return f'Hello, {self.name}!'\n",
    "\n",
    "print(f'Before, {population=}')\n",
    "p1 = Person('name1')\n",
    "p2 = Person('name2')\n",
    "print(f'After, {population=}')\n",
    "\n",
    "print(p1.greet())\n",
    "print(p2.greet())"
   ]
  },
  {
   "cell_type": "code",
   "execution_count": 41,
   "metadata": {},
   "outputs": [
    {
     "name": "stdout",
     "output_type": "stream",
     "text": [
      "Before, Person.population=0\n",
      "After, Person.population=2\n",
      "Hello, name1!\n",
      "Hello, name2!\n"
     ]
    }
   ],
   "source": [
    "# how can we avoid using a global variable?\n",
    "# option 2: let's use an attribute on our Person class\n",
    "\n",
    "class Person:\n",
    "    def __init__(self, name):\n",
    "        self.name = name\n",
    "        Person.population += 1    # add 1 to the global population\n",
    "    def greet(self):\n",
    "        return f'Hello, {self.name}!'\n",
    "\n",
    "Person.population = 0    # add a new attribute, population, to our Person class\n",
    "\n",
    "print(f'Before, {Person.population=}')\n",
    "p1 = Person('name1')\n",
    "p2 = Person('name2')\n",
    "print(f'After, {Person.population=}')\n",
    "\n",
    "print(p1.greet())\n",
    "print(p2.greet())"
   ]
  },
  {
   "cell_type": "markdown",
   "metadata": {},
   "source": [
    "# Class attributes\n",
    "\n",
    "Just as every instance has one or more attributes describing its contents/properties, so too classes can have attributes that describe them. \n",
    "\n",
    "These are different! Instance attributes describe things that differ across instances. Class attributes typically describe something that is shared across the objects, or a common resource.\n",
    "\n",
    "This is **NOT** a static field. This is **NOT** shared across the class and all of its instances. A class attribute exists **SOLELY** on the class. It does not exist on the instances."
   ]
  },
  {
   "cell_type": "code",
   "execution_count": 42,
   "metadata": {},
   "outputs": [
    {
     "name": "stdout",
     "output_type": "stream",
     "text": [
      "Before, Person.population=0\n",
      "After, Person.population=2\n",
      "Hello, name1!\n",
      "Hello, name2!\n"
     ]
    }
   ],
   "source": [
    "# option 3: define the class attribute INSIDE of the class, rather than\n",
    "# adding it to the class after it is defined.\n",
    "\n",
    "# any assignment inside of the class definition creates a class attribute!\n",
    "# if we assign population = 0, that's really saying Person.population = 0\n",
    "\n",
    "# if we define __init__ and greet, then we are not creating new variables,\n",
    "# but rather new attributes on Person -- Person.__init__ and Person.greet\n",
    "# methods are attributes on the class!\n",
    "\n",
    "class Person:\n",
    "    population = 0   # this is not a variable, but an attribute -- Person.population. \n",
    "                     # Where is the \"Person.\" before the name? here, we don't use/need it\n",
    "\n",
    "    def __init__(self, name):\n",
    "        self.name = name\n",
    "        Person.population += 1    # add 1 to the global population\n",
    "    def greet(self):\n",
    "        return f'Hello, {self.name}!'\n",
    "\n",
    "print(f'Before, {Person.population=}')\n",
    "p1 = Person('name1')\n",
    "p2 = Person('name2')\n",
    "print(f'After, {Person.population=}')\n",
    "\n",
    "print(p1.greet())\n",
    "print(p2.greet())"
   ]
  },
  {
   "cell_type": "code",
   "execution_count": 43,
   "metadata": {},
   "outputs": [
    {
     "name": "stdout",
     "output_type": "stream",
     "text": [
      "Before, Person.population=0\n",
      "After, Person.population=2\n",
      "After, p1.population=2\n",
      "After, p2.population=2\n",
      "Hello, name1!\n",
      "Hello, name2!\n"
     ]
    }
   ],
   "source": [
    "# are we really saying that population is only available via the class?\n",
    "# what if we try to retrieve population via the instance?\n",
    "\n",
    "class Person:\n",
    "    population = 0   # this is not a variable, but an attribute -- Person.population. \n",
    "                     # Where is the \"Person.\" before the name? here, we don't use/need it\n",
    "\n",
    "    def __init__(self, name):\n",
    "        self.name = name\n",
    "        Person.population += 1    # add 1 to the global population\n",
    "    def greet(self):\n",
    "        return f'Hello, {self.name}!'\n",
    "\n",
    "print(f'Before, {Person.population=}')\n",
    "p1 = Person('name1')\n",
    "p2 = Person('name2')\n",
    "print(f'After, {Person.population=}')\n",
    "print(f'After, {p1.population=}')\n",
    "print(f'After, {p2.population=}')\n",
    "\n",
    "print(p1.greet())\n",
    "print(p2.greet())"
   ]
  },
  {
   "cell_type": "markdown",
   "metadata": {},
   "source": [
    "# ICPO -- the lookup path for attributes in Python\n",
    "\n",
    "- If we ask for an attribute on an instance in Python, and the attribute is there, we get the value back.\n",
    "- If we ask for an attribute on an instance, and the instance does *NOT* have it, then we turn to the object's class, and look there.\n",
    "\n",
    "Let's then summarize what happened above:\n",
    "\n",
    "- In line 14, we ask `Person`: do you have an attribute `population`? Answer: Yes, 0\n",
    "- In line 17, we ask `Person`: do you have an attribute `population`? Answer: Yes, 2\n",
    "- In line 18, we ask `p1`: do you have an attribute `population`? No!\n",
    "    - We then turn to `type(p1)`, aka `Person`, and ask: Do you have an attribute `population`? Answer: Yes, 2\n",
    "- In line 18, we ask `p2`: do you have an attribute `population`? No!\n",
    "    - We then turn to `type(p2)`, aka `Person`, and ask: Do you have an attribute `population`? Answer: Yes, 2\n",
    "- In line 21, we ask `p1`: Do you have an attribute named `greet`? No!\n",
    "    - We then turn to `type(p1)`, aka `Person`, and ask: Do you have an attribute `greet`? Answer: Yes, and we invoke it\n",
    "- In line 22, we ask `p2`: Do you have an attribute named `greet`? No!\n",
    "    - We then turn to `type(p1)`, aka `Person`, and ask: Do you have an attribute `greet`? Answer: Yes, and we invoke it\n",
    " \n",
    "In other words:\n",
    "- All methods are class attributes\n",
    "- We normally invoke a method via the instance, and thanks to this search path (instance -> class), it works out fine."
   ]
  },
  {
   "cell_type": "markdown",
   "metadata": {},
   "source": []
  }
 ],
 "metadata": {
  "kernelspec": {
   "display_name": "Python 3 (ipykernel)",
   "language": "python",
   "name": "python3"
  },
  "language_info": {
   "codemirror_mode": {
    "name": "ipython",
    "version": 3
   },
   "file_extension": ".py",
   "mimetype": "text/x-python",
   "name": "python",
   "nbconvert_exporter": "python",
   "pygments_lexer": "ipython3",
   "version": "3.13.0"
  }
 },
 "nbformat": 4,
 "nbformat_minor": 4
}
