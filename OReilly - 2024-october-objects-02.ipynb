{
 "cells": [
  {
   "cell_type": "markdown",
   "metadata": {},
   "source": [
    "# Agenda, day 2\n",
    "\n",
    "1. Recap -- the story so far\n",
    "2. Q&A\n",
    "3. Magic methods\n",
    "4. Class attributes\n",
    "5. ICPO -- the attribute lookup path\n",
    "6. Inheritance -- the three paradigms of method inheritance\n",
    "7. Magic methods, ICPO, and inheritance, with the `object` class\n",
    "8. Next steps"
   ]
  },
  {
   "cell_type": "markdown",
   "metadata": {},
   "source": [
    "# Recap\n",
    "\n",
    "Object-oriented programming is all about repackaging our code into units known as \"classes.\" Each class describes a new data structure that we define, along with the functionality that we'll want to implement on that data structure.\n",
    "\n",
    "### Some terms\n",
    "\n",
    "- A \"class,\" or a \"type,\" is the core idea in object-oriented programming. Each class is a factory for creating a different data type. In conversation, the words `class` and `type` are interchangeable. But in actual Python coding, we use the word `class` to define a new class, and we use the word `type` to find out what class something has. A class is an object in Python, an instance of the class known as `type`. (And yes, this is confusing...) When we want to solve a problem with objects, we map out what data structures we'll want, and we define those in our class definition.\n",
    "- An \"object\" is simple a value in the Python world. All values in Python are objects. Every object has a class that created it, its factory, or its type. We can find out an object's type by invoking `type(THE_THING)` on it. The value we get back will be a class object. Everything in Python is an object. "
   ]
  }
 ],
 "metadata": {
  "kernelspec": {
   "display_name": "Python 3 (ipykernel)",
   "language": "python",
   "name": "python3"
  },
  "language_info": {
   "codemirror_mode": {
    "name": "ipython",
    "version": 3
   },
   "file_extension": ".py",
   "mimetype": "text/x-python",
   "name": "python",
   "nbconvert_exporter": "python",
   "pygments_lexer": "ipython3",
   "version": "3.13.0"
  }
 },
 "nbformat": 4,
 "nbformat_minor": 4
}
