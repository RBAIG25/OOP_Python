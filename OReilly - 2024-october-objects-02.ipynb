{
 "cells": [
  {
   "cell_type": "markdown",
   "metadata": {},
   "source": [
    "# Agenda, day 2\n",
    "\n",
    "1. Recap -- the story so far\n",
    "2. Q&A\n",
    "3. Magic methods\n",
    "4. Class attributes\n",
    "5. ICPO -- the attribute lookup path\n",
    "6. Inheritance -- the three paradigms of method inheritance\n",
    "7. Magic methods, ICPO, and inheritance, with the `object` class\n",
    "8. Next steps"
   ]
  },
  {
   "cell_type": "markdown",
   "metadata": {},
   "source": [
    "# Recap\n",
    "\n",
    "Object-oriented programming is all about repackaging our code into units known as \"classes.\" Each class describes a new data structure that we define, along with the functionality that we'll want to implement on that data structure.\n",
    "\n",
    "### Some terms\n",
    "\n",
    "- A \"class,\" or a \"type,\" is the core idea in object-oriented programming. Each class is a factory for creating a different data type. In conversation, the words `class` and `type` are interchangeable. But in actual Python coding, we use the word `class` to define a new class, and we use the word `type` to find out what class something has. A class is an object in Python, an instance of the class known as `type`. (And yes, this is confusing...) When we want to solve a problem with objects, we map out what data structures we'll want, and we define those in our class definition.\n",
    "- An \"object\" is simple a value in the Python world. All values in Python are objects. Every object has a class that created it, its factory, or its type. We can find out an object's type by invoking `type(THE_THING)` on it. The value we get back will be a class object. Everything in Python is an object -- strings, ints, lists, dicts, etc. The only things that are *not* objects are keywords in the language, such as `if` and `class` and `def` and `for`.\n",
    "- Every object in Python has three things:\n",
    "    - an ID number, which we can get with `id`, that identifies it uniquely\n",
    "    - a type (as we've said)\n",
    "    - attributes, a private set of name-value pairs that we can set and retrieve via a `.`.  You can get the attributes on an object via the `dir` function, which returns a list of strings.\n",
    "- An \"instance\" is another word we use for \"object,\" and it basically means: The thing that a class created. So `'abcd'` is a string object, which means that it is an instance of `str`, because its type is `str`.\n",
    "- A \"method\" is a function that we define inside of a class. It's just like a regular function, and can do the things that a regular function does, with one exception -- the first parameter to a method is always called `self`, and it always contains the instance on which we're running. Every method must have `self` as the first parameter; if you don't put `self` there, then whatever parameter is first will be assigned the instance. Inside of the method, we can set and retrieve attributes on the instance via `self`. So we can set `self.x = 10`, or we can retrieve `self.x`. But we must name `self` in order to set and retrieve those attributes.\n",
    "- `self` is not a reserved word, but it might as well be, because the overwhelming majority of people in the Python world all use `self` as the name for that parameter. IDEs like VSCode and PyCharm colorize it to show that it's special. `self` always refers to the current instance.\n",
    "- Every instance of a class will typically have one or more attributes that describe its particular characteristics. An instance of `Car` might have attributes like `color` and `engine_size` and `odometer` on it. The names of these attributes will exist across all instances of `Car`, but the particular values will be different. In other programming languages, they call these \"fields\" or \"instance variables,\" but in Python, we just use attributes to store and retrieve these values.\n",
    "- In other languages, we use methods known as \"getters\" to retrieve attribute values, and other methods known as \"setters\" to assign to them. In Python, we rarely do that; rather, we just retrieve the attribute directly and set it directly."
   ]
  },
  {
   "cell_type": "code",
   "execution_count": null,
   "metadata": {},
   "outputs": [],
   "source": []
  }
 ],
 "metadata": {
  "kernelspec": {
   "display_name": "Python 3 (ipykernel)",
   "language": "python",
   "name": "python3"
  },
  "language_info": {
   "codemirror_mode": {
    "name": "ipython",
    "version": 3
   },
   "file_extension": ".py",
   "mimetype": "text/x-python",
   "name": "python",
   "nbconvert_exporter": "python",
   "pygments_lexer": "ipython3",
   "version": "3.13.0"
  }
 },
 "nbformat": 4,
 "nbformat_minor": 4
}
